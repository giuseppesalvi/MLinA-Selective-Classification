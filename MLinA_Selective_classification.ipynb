{
  "cells": [
    {
      "cell_type": "markdown",
      "metadata": {
        "id": "view-in-github",
        "colab_type": "text"
      },
      "source": [
        "<a href=\"https://colab.research.google.com/github/giuseppesalvi/MLinA-Selective-Classification/blob/main/MLinA_Selective_classification.ipynb\" target=\"_parent\"><img src=\"https://colab.research.google.com/assets/colab-badge.svg\" alt=\"Open In Colab\"/></a>"
      ]
    },
    {
      "cell_type": "code",
      "execution_count": null,
      "metadata": {
        "id": "uYZf7tkV4Hf4"
      },
      "outputs": [],
      "source": [
        "import os\n",
        "import glob\n",
        "import pickle\n",
        "import numpy as np\n",
        "import tensorflow as tf\n",
        "from scipy import io as spio\n",
        "import matplotlib.pyplot as plt\n",
        "import tensorflow_datasets as tfds\n",
        "from sklearn.model_selection import train_test_split\n",
        "\n",
        "ROOTDIR_DATA = \"/content/drive/MyDrive/Datasets/Teaching_dataset/\"\n",
        "ROOTDIR_SRC = \"/content/drive/MyDrive/Datasets/Teaching_dataset/teaching-MLinAPP/src\"\n",
        "# ROOTDIR_DATA = \"/space/ponzio/teaching-MLinAPP\"\n",
        "# ROOTDIR_SRC = \"/space/ponzio/teaching-MLinAPP/src\"\n",
        "# os.environ[\"CUDA_VISIBLE_DEVICES\"] = '1'\n",
        "# os.environ[\"TF_FORCE_GPU_ALLOW_GROWTH\"] = 'true'"
      ]
    },
    {
      "cell_type": "code",
      "execution_count": null,
      "metadata": {
        "id": "1LPsVgFWBHt0"
      },
      "outputs": [],
      "source": [
        "from google.colab import drive\n",
        "drive.mount('/content/drive')"
      ]
    },
    {
      "cell_type": "code",
      "execution_count": null,
      "metadata": {
        "id": "vnRCdatnAuVa"
      },
      "outputs": [],
      "source": [
        "!rm -r \"/content/drive/MyDrive/Teaching&Thesis/Teaching_dataset/teaching-MLinAPP\"\n",
        "!git clone https://github.com/frpnz/teaching-MLinAPP.git \"/content/drive/MyDrive/Teaching&Thesis/Teaching_dataset/teaching-MLinAPP\"\n",
        "plt.style.use(os.path.join(ROOTDIR_SRC, \"mystyle.mplstyle\"))\n",
        "import sys\n",
        "sys.path.append(ROOTDIR_SRC)"
      ]
    },
    {
      "cell_type": "markdown",
      "metadata": {
        "id": "b8eZWzd892yr"
      },
      "source": [
        "# Thresholding the uncertain"
      ]
    },
    {
      "cell_type": "markdown",
      "metadata": {
        "id": "LXGfoc97B-eO"
      },
      "source": [
        "## Load original and corrupted data"
      ]
    },
    {
      "cell_type": "markdown",
      "metadata": {
        "id": "Xxif92ohEyWp"
      },
      "source": [
        "### Cifar10\n",
        "Do not shuffle the dataset"
      ]
    },
    {
      "cell_type": "code",
      "execution_count": null,
      "metadata": {
        "id": "Rs1foOklA3jX"
      },
      "outputs": [],
      "source": [
        "[...]"
      ]
    },
    {
      "cell_type": "markdown",
      "metadata": {
        "id": "EhqaU0-ZE11s"
      },
      "source": [
        "### Corrupted dataset\n",
        "Do not shuffle the dataset, make a tf dataset"
      ]
    },
    {
      "cell_type": "code",
      "execution_count": null,
      "metadata": {
        "id": "kd0zmmfSE5nZ"
      },
      "outputs": [],
      "source": [
        "corruption_level = 4\n",
        "corruption = np.load(os.path.join(ROOTDIR_DATA, \"CIFAR-10-C/shot_noise.npy\"))\n",
        "corruption = corruption[corruption_level*10000:(corruption_level+1)*10000]\n",
        "label_corruption = np.load(os.path.join(ROOTDIR_DATA, \"CIFAR-10-C/labels.npy\")\n",
        ")[corruption_level*10000: (corruption_level+1)*10000]\n",
        "\n",
        "corruption_ds = [...]"
      ]
    },
    {
      "cell_type": "markdown",
      "metadata": {
        "id": "NBsd4G0NGxoB"
      },
      "source": [
        "## Load pre-trained CNN"
      ]
    },
    {
      "cell_type": "code",
      "execution_count": null,
      "metadata": {
        "id": "wTopvVQQCc6e"
      },
      "outputs": [],
      "source": [
        "from resnet import ResNet\n",
        "input_shape = (32, 32, 3)\n",
        "num_classes = 10\n",
        "draws = 5 #  with 'all' as TTA policy this means draws*4 total samples\n",
        "model = ResNet((input_shape[0], input_shape[1]), \n",
        "               num_classes=num_classes, \n",
        "               augment=True)\n",
        "model.compile(metrics=[\"accuracy\"])\n",
        "model.built = True\n",
        "model.load_weights(os.path.join(ROOTDIR_DATA, \"models_cifar/checkpoint_cifar10_lr_red\"))"
      ]
    },
    {
      "cell_type": "markdown",
      "metadata": {
        "id": "-66fPFUmG1gZ"
      },
      "source": [
        "## Evaluate on test folds"
      ]
    },
    {
      "cell_type": "code",
      "execution_count": null,
      "metadata": {
        "id": "20nUCFd_DA2d"
      },
      "outputs": [],
      "source": [
        "[...]"
      ]
    },
    {
      "cell_type": "markdown",
      "source": [
        "TTA Wrapper"
      ],
      "metadata": {
        "id": "NoBNrmRzT3bW"
      }
    },
    {
      "cell_type": "code",
      "execution_count": null,
      "metadata": {
        "id": "bTvAY0LUI1Hw"
      },
      "outputs": [],
      "source": [
        "[...]"
      ]
    },
    {
      "cell_type": "code",
      "execution_count": null,
      "metadata": {
        "id": "Hmo79MngJ5fu"
      },
      "outputs": [],
      "source": [
        "tta_model = TTAWrapper(model)"
      ]
    },
    {
      "cell_type": "markdown",
      "metadata": {
        "id": "49-wLHot92y0"
      },
      "source": [
        "## Make predictions for cifar and corrupted datasets"
      ]
    },
    {
      "cell_type": "code",
      "execution_count": null,
      "metadata": {
        "id": "8yxiEtro92y0"
      },
      "outputs": [],
      "source": [
        "cifar10_preds = model.predict(cifar10_test)\n",
        "corruption_preds = model.predict(corruption_ds)\n",
        "cifar10_many_preds = tta_model.predict_many_times(cifar10_test, \"all\", draws=draws)\n",
        "corruption_many_preds = tta_model.predict_many_times(corruption_ds, \"all\", draws=draws)"
      ]
    },
    {
      "cell_type": "markdown",
      "metadata": {
        "id": "qXoQ1mXpNWNR"
      },
      "source": [
        "## Plot uncertianties distributions"
      ]
    },
    {
      "cell_type": "code",
      "execution_count": null,
      "metadata": {
        "id": "b0AJTBCcOatx"
      },
      "outputs": [],
      "source": [
        "[...]"
      ]
    },
    {
      "cell_type": "markdown",
      "metadata": {
        "id": "20JTbqrk92y3"
      },
      "source": [
        "Now we can put a threshold $\\theta$ on the uncertainties distribution to identify, and eventually remove, those **not-confident** predictions.The following procedure will provide a method to automatically identify such threshold"
      ]
    },
    {
      "cell_type": "markdown",
      "metadata": {
        "id": "XPUYbo8rNzsP"
      },
      "source": [
        "# Risk-Coverage analysis"
      ]
    },
    {
      "cell_type": "markdown",
      "metadata": {
        "id": "iFrjRrE-UIYd"
      },
      "source": [
        "![eq1.png](data:image/png;base64,iVBORw0KGgoAAAANSUhEUgAACiQAAAFRCAMAAADJ6afoAAAAAXNSR0IArs4c6QAAAARnQU1BAACxjwv8YQUAAADGUExURe7s4cHAt1pZVWFgXHd2cImIgpSTjLKxqd/d0wAAABYWFVZVUaOimufl2pybk11dWCIhIJGPiero3Tw7OAcHBx4eHOPh1piXkEtKR9vZz728s4WEfi0sKjg4NYKBe8nHviUlI3Bvara0rMzLwQQEBK+tpU5OSjQ0MdDOxbq4sI2MhWloYwsLCzEwLtjWzH59d6Cel0dGQ9TSyKemnmxrZqupoRMTEsXDuhoaGQ8PDlJRTnp5dD8/PHRzbSkpJ0NDQGVkXwAAAOtpSxsAAABCdFJOU///////////////////////////////////////////////////////////////////////////////////////AEQWEAAAAAAJcEhZcwAAMsAAADLAAShkWtsAAF5MSURBVHhe7Z3dbuM4s7Vz4gOPkbQb8yYeJ70Pug3DCdJItxHAAySdQe7/qrbEWkWJ+qFI/Vm219P7+96hrMiyRBYXq4rkFSGEEEIIIYQQQgghhBBCCCGEEEIIIYQQQgghhBBCCCGEEEIIIYQQQgghhBBCCCGEEEIIIYQQQgghhBBCCCGEEEIIIYQQQgghhBBCCCGEEEIIIYQQcnZsFg6fH++z1fYOHxJCCCGEkMvkY17FYXGDzwkhhBBCyAVys1hCGBY4zHAGIYQQQgi5RP6GLLxNOOC/U3b4nBBCCCGEXCA3ognfpLS+f1Df4u5aDhFCCCGEkMvjSSThA4oJj5CJzygTQgghhJCLYyWK8AnFlEeEndcoE0IIIYSQS+NdBCFKAkLQWxQJIYQQQsilsTd60J2m8miO5UPQhBBCCCHktHlaffz6gf823CVHZk91S2RLAmIh/9Acmy9QIoQQQgghJ85KRN/yEeWr9ac5MJ+/44DLnXxYWD371hzco0QIIYQQQk6al51RdwkHOXD3jHLCUg65vMpnhTkqMnOF05sJIYQQQs4BKD6DSShcOxuqVO2iIiISktJiDs5XKBFCCCGEkBPmt2g7IY0Vb4xH0O6jUpSCKeJ6LGQfbsxBZ1kcQgghhBBymjykwu5BnYPLq6t7c+Al+Q/oxA3OzCEfFHyMH3IUJUIIIYQQcrqkq2L/ZWSgUXiHq3UiDXeJRExAHPrVFPLAZ3iPIhBN+YESIYQQQgg5XdbL+VLWuTEa71saSdYw8tqovookw6qltOFIrApOE0IIIYSQk2OBOcpGJH4s8tOTjeyrmLnyZo67S2kjtbHsdiSEEEIIISeMiDxnnUM5UJ6JIoFlZwlFOBe5/g0hhBBCyFnxJCpvfsg2WUG4uZB6aI9nTsM1JCL9iIQQQgghZ4aZ5ZyQk4SYuIJSxo0cN2ry8cfqXXdn+a+wuDYhhBBCCDl1FiL08msfin/wb5Qycvux5FiahbgJIYQQQsg5gV1WsmDz1dXeHCmnGf5njrt8loLShBBCCCHk5EGeobPKocxP+Y1ShjnssLzGR4QQQggh5JxAnmHeH4gls0uJhj/k+PtqtZq9i7dR9nwmhBBCCCFnht2VL2NmDpVXx/5ljut8lvWtKVElEkIIIYScITsj9Zz8w3/ModyyiUCch3YpbTgcufoNIYQQQsj5UaH0JCXxF0oZxaW0C6KREEIIIYScC1hKO59/CA9hadZyyXOIv92gWMXj6v3Lfv88K5yzfX7785x9wY/3xe7z/RGlq6vr1Uf6RyhlbD7eds+5pbxnz/u3h/K+MIQQQgghpCOylLaTfygpieWltFdyPLdWjhxwJkbnWT9ILDvlLScTf3yTYzco6lmIea8/xGU5P2zlAHjEXBk9TZfy3nMpb0IIIYSQnhHhlV9JuzaK/MUcz09xkTO/oVREt3IRDlbK2SW5D2b9HCzmnbJKy/eQiCn5xRsxDTvB+A6xK0zKkiqREEIIIaRfRJE5U5TlUNk/KKtu5/UkfI6VGm0j/sH9++uruPxUdWbexfRr7+AeFJKPc+LP+bLcbi/plJqv+G9DrS+TEEIIIYS0oSL/EIfcUG/CtRw33j6AUxE2dtiaT3aiH2WbP/Pf6zTU/Pz6YY48X90lyvPwfr+B13FjNOLuZrMVKZm5LVOh+XYzMwL2P7ni52pzI6eVV+shhBBCCCEdQJ4hSoZy6qEgss+dzyKHnGC1IHNaPlGS88yMk1QUpuFiE2ReXL0l0i89jKDzayI7f5rz7kzZ3lj6cboDjLm526vfiX6UG5H0Ri7WSAghhBDSJ6LNnPxDCQ47q2sbxPnnzmeRFRXLjrx7czxbfNFEqo0P8mZ+MFNYzNWek/8fJ0nG4fthfsAkZwluv0jhanOQTESz6csyubzeskja7ygRQgghhJA+ECnm5PS9mUPQbr+sM7ByPgv2YCktgvNfevQ/FBLM18jaNa9ysolAHzIfICLXkJAJIl9RuLp6lJVujJY8HLLbkCC4eCMJIYQQQkgvIM8wW3owQdL8ZJHCRASqOxCnuqFl8RiWHHmiANULeHW1Nmc581swX8U6GxHMzlIhzW2UfJSS3Zj3c5qyK10JIYQQQkgnMJXYkW8iEo0HMY0J78w6NXYFmsJEYjn4EyXwYg7m1sI2zklXyMkU6kzsYaJ05rg0J5S2BoS2zLkuzQ7SnLlCCCGEENIjkmd4i5Ig4ebD09XTn+R/rbQT7ZjblM8gQeG8IEwwWY053SZZjs50afEtzrNNVmSFm0w0ysSV0oQUCY/nDxsxSU8iIYQQQkiPiPJzQ8iI6Ao7neSs4eCCHMNUaFfN/S89YgPJr/IlrgsS81RQSpCTsri3+DiLW+6JtnT8hj/TIyWPIyGEEEIIaY/RXAU/IJx8Bo3+brOlrHezvHKzJ3/7sGvjyJqHJoS9uXmWuHIxTC3Xy0WNTTmn/sTHiYJFpKNzv+aIVaSEEEIIIaQzmFL8L4pAvYPZwtl53ZiAo4ZswxTrzUuj1PPDYr9bGpdiChY1zDBh49z0E7mTnNYznsVSFFm0ZT6FUv6wEAQnhBBCCCEdWB2W6T+ULBILPrxbMXYv58m/2y84ani1H9itWMxf51kUo8Y4JyftxPuYqVWZS11a/tBIx9zSOqponenZhBBCCCFkGJ5WN6W1D0PRFQ9TDrv9e9GJmCIZjrlPzGyZXLRZ4sol7WeOOpHrwnKKhBBCCCFkmshiNjdPPzbZQolFShmHxQVvJK5c3BpQlmV0/JLmDyv2BSSEEEIIIZNCZkejUEMxbCxJj7kp0sWcRUGC0nnpKG5LRpsJIYQQQqZOSADYnJKbpiKZhZmLUFZJLM1ZNltFO9JRlmBEgRBCCCGETBYjEv1boEjY2M50KWs9SUm8Qclidldx1kQ05xWW1yGEEEIIIdND0glRADN3KUYJG+emxhSjy5Kz6OwWmCBB6bx/UTaJRoEQQgghhEwXmbjiCLxEyzleQVlcEYUEiS5n+zbLCRCN2fSX3+a0XObii5m2woxEQgghhJDp88NIuVwseZ0GoB13X3G/ZYku5/4kt5T2e5aqKD7KTCRef0vLf1AihBBCCCETRtyCB+tK/J1KwmV+2cXS9ioSXc6dYpIPjUhMP9IPZH/nbL0bIxoPjygRQgghhJApI5JPduJb//ovLfy5Np+Ar+aEXJRY1B8KKXJge7VJ4852YxZzcH7AEjhrE5OmRiSEEEIIORFMNHk+/99/Zj5KQmH6sSySk1N3ppyftSxnCDa8LHOiE/m5TQsPP9P/PrTeGIYQQgghhIyLpBha9kVnn9GOuSTFJ3Nabifn3NZ+h8zh+AuHEiBD5zv6EQkhhBBCToa1hIsNu9LkY1nJJjffRNSfc55s25Kcldvaz+zvbPVhwvIHPiGEEEIIISfB6svu5/ywW6yK2y8nPH68J//SmDH4bQ44aYtXPxKduXwzeY2KkYf7q6fFfpl8ts9fgRBCCCGEXCjigOTuKoQQQgghJIfs78yVswkhhBBCSA5ZSjuXo0gIIYQQQkhxTjQhhBBCCCHlxRQJIYQQQsjFI4sp5vbyI4QQQggh5MGIxBlKhBBCCCGEJJidmhluJoQQQgghebDTysfTGgcIIYQQQsjF8yIaMWGJI4QQQggh5OLZHpbJv9u/bg/cc4UQQgghhBBCCCGEEEIIIYQQQgghhBBCCCGEEEIIIYQQQgghhJAz5/1tMdo/7qtCCCGEEHIi7LBM4Rgs8J2EEEIIIWTiXJRIXN9vqzZ2WXO7F0IIIYQQl8sRiZtPcxOHFcrCy/MfszPgjrFwQgghhJCMP0Y5jcMxReJ6gZuYz/c4lPKOYwnf7nGMEEIIIYTcQyKNwRFF4pNxF4IbHLxa5Y/O5xscJoQQQgghD1BIlrfVavW1+/+bvS9cCXZMkTjDHQiHazkq8eeMnRwmhBBCCCFXV3tIJOXwgg+6s3WD2UcTiUU1+G968LocabcuRkIIIYQQUnT49elQc/yUxxKJRiN+215drcxtzOdm7ooRx/vX9freyuQ/5nRCCCGEEJJQSkv8wAd98APXTDmSSDQaUX7Tf+Y+TCFVhktkIeqklqUUCSGEEEJIQiktcYsP+iB38eOIRHMDD/LfiDuvrq6ek/+x05wf5fB8jjIhhBBCCEkopSX2ubh0dvHjiMS7ndWIVx9yI69mJssnDiboapGPKBNCCCGEkIRiWmJ+KcGuWDfd6CJxBa27s/FzxJXXT8n/l/+NKmSdRXA2r/gPQgghhJALJRVNDup66wO7jPW4IvFpOS/toiJicLdORLEzPUdvEUVhMd9z5URCCCGEXDa5nUeEJ3zQA9aVOKZIvEt1X2kiytLcx3OiFd2IeqVI/JkcyIWkCSGEEEIukOKigbdYcLoPNONvRJH4QwLoRalrDhrcTxBu/oaiQRbg1gnQhBBCCCEXyd2AaYk6wXk8kQjH6K4wASdb7Kewyo94GN0bXOOgWVSREEIIIeRCKaUllhL6WrPGFccSiWu4RZ9RttjleIpxaBwu6ME3OcqQMyGEEEIumVJaotm8rhcQbx5JJK7xdeVN9uwUmkIYWj2MxV8MUdnnXG9CCCGEkFMjW9BQ6G//ESxPOI5I3NyaL7utSCaUT8o3oh5GFDO2EoT/1mOCJiGEEELIiVFKS+xN1G17vp4PpBIW0xFTNOztLoeYAA9jhcfwpf5qhBBCCCEXQiktsRywbcedXG4MkbgWb+HhDuU8N+ajCjEIdfyOYp6NfOSsqkgIIYQQclmU0hL7Wv9F/HEjiMRr5CNW3ni6X3NKcScV9TBWrg0JLyjzEgkhhBBywRTTEvtyoMk84RFEIjTiFkWXb/LhAUXLSo6XUxINSFj8giIhhBBCyOVRSkvsafkX8eENLxIxQ6YqbpwgH5Zv41OO1zkLkbHY35JAhBBCCCGnRiktsRiabYfsXjK4SETSYc33IHBczrT0pCQa4J68R5EQQggh5PIopiX+fMQHnRB9NrRIxCST/1Asoj+tOKdF95au365aVKS73TMhhBBCyEUxVFri8Fz/J3dcN9sG+7CUln/8KsdrUhJTXuUETl4hhBBCyOVSSkssbHM8XTDDpNZf+VM+L6VZ1q+SaIG+7GtJIEIIIYSQ00NT9yz1YdhJ8a/cbWnusoJgdHGD5uaUxAREpBlwJoQQQsgFU0xLPBFphAVuaichy+SZcjRaxaNXC2PaNAPOhBBCCLlgMJvX8n84PmkQbK5PoURUuZR6WLtxswPcjdULMBJCCCGEXAKltMQHfDBh1rjn+nVqZNeXsjMQ4rFhgg7mrpRmvRBCCCGEXA6ltMTpLxGILffqF//WvfdK83AgHp9RrANzV76iSAghhBBygZxcWqJKwBeUy/zGGcXVwe9qjhfBMuOH4iqLZ856a7iwX01ikCryL0qEEELOnWJa4huOTxXZHNo3sQSuxtJS2ogjzxsXDYfH8WRWBOoHbFmIEiEl7qWKnEBOCiGEkF7QFD/LtLuAF9ylZ4YyZG8pqVCdpigm18L/FlnhxGuULwN5bEzFJLVgMfoTWSmLEEJId0ppiXX7mEyCL3KPHi1zLWeUl9rGvBW7vOJ7bW8nJ16Yx0R+c1PCJrlg0IJQIoQQcgEU0xKXE05L1LzC0jrZGUgpLEs8bEP4N4rpgjg169xgrcTa1brPETw2bjVDapE8jNPZvpMQQkh3immJ9ROHj853uUOffIPCm5fS690wtJHG3+W/i2hM+5ImOGMRycaETXKxYM7YheXqEkLIhVNKS/T46Y4MbtAXFIXDsBwU0w+Mo9RIydrL4NRLStCTn3xRzlMSBxJTmlYHIIQQclb8EOufMVV/0g3uzxcQxynloJjOet5vNisTOKuXmhqyvqAU/cXu793ub3qJSC2rpIIk/8dFkggh5LLQEK2ynOjEXnj4fBsrP8opFQpQJy0rPnckVsGZcOCdEEIIIWQEimmJPgF1PHQhbd/sihnO+Y1yDjeq7o2pYzIPo6+EEEIIuWxKmzhPMvEIkyu80WYs01G1I0velXjwR5I3OI2TfQkhhBBy2RRXS/xZv+3d8UAQ2LsGB86p9AFmUfXnpsQqiOap7z9DCCGEEDIwOq1D2U0vLVHTDX+hXMkq4etqVb0C4o99Iv4Ou/fmlSCxSZ3XaUkIIYQQcgEU0xKnN9FVdWynudeBqk89q9NdDah/HrlI4imyflqt3F2S1k+zm2H2TVo/cm4zIYRcIqXVEmu2Izket3Jf48wmke+6hO0ldrvDAe+eCuDk2EgS7rdMFM7QTt5R7oGP3VLryAyHCJkG60nvI0vqWd/jP8ip8Go6gYzDxEKtuppjzTYpPaNLbx8hN/Op/YP/gf+NILdI5n84FMgFrSJZoEO/FPbQQh/ttc0SOUDgr7KxXn9rwSPRN4U98jBs2jb61n94Flzf7Od/8N/kxFjNl78YvTotsOedZWJeNJ233EIItUCnQo8ddX95WBa2A3zZrmZf379/PL+9ve12Xv/Q/fzwHNuLbxZ/8FOjloV8fF9eVCw+R9IvFZrG9nW2mj1/fCzeFn92vlU80xlRb80rB6yTdxGiE9e5HBFZtcpJLe6t7n68WemJI6RP1rNla8fvfr5fXWoE4If0CSiRE8NYrz8XW3tPk2Ja4gOOTwPtp1AcGF2T8RvKo7BemVfgShB3SpF3UR4z3Wb5EOtbeMSjDRZ9dzNzn5c49/vH4mf6051HrBv0CN6nYk49PJc2Fncxaz0tG+dX3WdeQ8nCWKv/G/ToZMJMLnpt+mdl3lpLQyN2anGJXv1H7a+YAnGSaBd74EafJ0QpLXFKpkeXLlygPDRqgUYc57wim8yNcbvS3dvv6/t7iLxp6NBQJ+SNfo9/BvzDxzTXZO/ARlWY0y/p+p2Ct8tSd/jC+x71lX943+MmfQ377QYrvydHviX/s7t5WesL6nGZz3u54tm90aNjG72/9a0+vldWGd08YHf8PIDZrpq3ty8fs967kjs7eH52H8wDvjYjtxzGj284ppx0NOQeP6JA8sDfb6Y/bFi/az+yZxLL6VBKS8TxKaA98VjuTV0EZ7RhzkbDvgdX463vX9/wSVOe2UyTx77FmQgsIIlSAxuVMEuvHHpNLQD++0y4swttfjpWbb3Zfld719DZP6nKPPgenjiU07M8s8fMqMn0cfLdj1dJBcKoHL7NHtsKxmgc9PfLi60PH75hw1PasCvTtzBxKeHoy1FgsFLHYdHnVEhjXhKWD8WRqs2eseSaWukeT7pC6wihmt37FBc7dngNGw6TKeGGNv27JI+MCqVxUhKzpMSRfCfXar52Ve4fu9b5Fxyow4oQv6uqgPxRUCjxWoXS3mvyEfhE6TzYol86VMWB7Z5FTQOrl4//yYlLn5C/177fM8j+P20MyMxK3sxS70zupkevO8aPzDPvFR35Lr0OrTt5wTXP/u5B62XFVqRjsnVjHhUcCk6/1lzDzP2sMJZWNYND3hRKaD/jtFeveF3kppRVEdULHIV7/AJrucjkKbZzr7NoVLQTHmvIgfjaSGbkUdtKzaoA/8nHAQHER4ykGzYedJAvD3FFmBBnws6rFlRJTskT3ZVr7Xxq+nMV+QGJmqqzvY6+tY6KasX43R6v2DTa3e+8pZV23KNzSX7eOb3Q4/OYpgekT9W/FMjMZMH6RlzqURorFaeOdXHuYwmvAz2Ya3RTu0pX2VqDQIbiID+fQOwdp50GSav3EdMLHAk4pg4NedpkMpTSEqeylJGmJI7XTeELR9l0RbVXrZVXhRJyM9plBEdS7oLP16kSfvXxquPbWxw4A+7ggvhWp47V8xzSC+pj9E8n1+SPxiuax51cMrdolbyBHsPNUgEnFFk4fXRg6B9WPEFJet3yOs19f2x/TJae+/3304+E7exjsct3Kj1UIX1wtRPCc+7CskXNPjyLiXc2+He4ef2xfUr+/Z4tcg+8x7zkgUDmwGGsGCHpSjEtcTmR7flU+YzXsNV5N8JYDNFkzzQvuAfDlr7bwIiGJmXjnTd3MDjR7/mwkztCb/cUWKOrrlfHWkHDcrDhJvTXZu36G1ZHuZaznJoqdrfHhCu54LTWOzhtnuSRVkVMM6w/OQGHqoF3endslajTcNy0oG3uZ+y79ig6oq43zGv4XhPKpkr9+Gcy4rGuREcOZ6mqJ9Bm15H9FTk2xYjBRIZbWum9Gzf3ig7Rhk9KRDu/9Rh4NKPQeBJscmC4UYb/zT5aOMu823rf5VPDTzvjJ4fKbk+Hjt8d6umGy6WhU0cdXHj7VU2MyGlJrC7RXwYhnM2T24XpdNGBoXdQ4cxMwLEaUAtuwwYpg2ElWKGqaO5ZQkdxpjEl3+A9M0I4kEPHsP+gfOLY8Hkh4IAxSMKRa0QAqhJPehbRRQH3hWUa+l6r/Hj1SCMngyudG/ke7w43+PnBqel4iWEqUcxmo+1Gj+V1D+qkQ+FcVtXThSR9lQ+jmOAxlapEFGvAVb2DA1wp/17g8kUJfGKFDD84uQAuOJGwwhmgTnlfD27mNGfgaB1QC0feKMs6tkrjiezHdIuAwrT5HbByTkI5axEfhK9LOZu0yrJzGot3qWL6FIbqOu1vrCf9xNFuN0ppiVNoIy+4l1EyBAV10DQZ5648SmzE212o0Qv/9TClQZpaQkRNYQkYHd80tFyk2XAunsSQfgnZCeHBHXg7Gra5gU/Yl5cIIZkfzIluLMj+4uivGpxcQG52lPSB9SVEndTIehr9OosYCjheC3Sn19E/ONaxVXL0qbsoMXU40oovco0Gw2bnrpRuA81uGT4Bcjf/x+e1PDKaC12uHl/xwQm4EjWFYJwO42bX55S+ywTGxjKFzDKNu4w5vRJfOXCM7Vps58EbGlRnI4ohSBJdiF8BCrTBEMLGezRitoygciYiEb/Lr//knHnEHD3Ekhv8KtDdnuohGt9ppfJHhUSJLiJRcmJDsx068O/ibIYWHnR6rqe2aCDD0tz4YSXabvDXC49yD1VWM+tXOqTJ4SJNOUBWqxZb11oWoPJH+V3Sd7W7maoTXetJRdQGn8y/ozxl8MJGWHDuIe3IKBK7YidMgZg9fQdCR4ZjJhvryHdYowsF4h8ZI1E0ppOG9AvocREhahha4w3Uz1nRZQRznEd3D/vlf/jqd0YxCFEKTf2VPNZ6zwdetONrlEOFOtVFJMpnITO3O7FNxegFiES4s+p9poVIc0rAUgEw3MeMpVmRWDFX1VbA9m94g7ALivXo8yuqDnjmY1yDaKalVbungfqbK2SPfnQSM3Rws0Ghr/Y8oolQJHamaKEGfnMBqH0Z8+VqGxvUf4KRcUM7xs+PCsRhiNkscaXdNPiLEdWoHenpfjG713WWbn8WOYmIDB78IvqXOSnOHqNDbegyUUNqR2rwH+VvD5kBBadvB5GICw4bt7rGhkF/o3y+II+s9sVrpHmZNCa83hBhpAOKY6YlejyJuTX9wmO9BVCHm3Oz1cFWeMYwY1GG9G/5m8T49TcRrD+0r67oo9UOTyEU2Iiu0TDkLjH/apdOkdid6aUl6g19RXkMNHo6pGdDF2toMOtyUuRsVZiPxuWnxPD693KB7a/rqHS/mJ2M0LUtDvnkRgPqt8GLFpA7WAY1rCHGgoBzXccmGt/R49JDFl/W5ildRa3pH052Qd86pC8l28n1LGqND03Tr2vO6Nxvpd9H0wpadBQy7IiDM58nEVPkE9pOXYFiDhiK2akrjh79V47FSYTc4OptKssGZ+DOqnoQK8pRnjZNbojO/M69SIrE7tjhKzi63cZ9jBpJGSMPEkHchiQdxDIjbwR/1fju5DT/4Bqyr864S0T2oB/XDONPkiavD0C/H7ltAP7KP0RAv1snEiT51HEY955BKNV0wNeZW9ftLGqNF4wN6joqcdv+VJugtjhoZXoMKI4XcPZ5EjO51TaDB+PekMGyzqFzTJb8fWT41XoSUyp3TT0iOoe5qm+wUy9PYOZKAmrHMK5EDVMAisQeKKYljpBQ6kObQmwn3AmbaI3yAGC82xQPgFyN7fWhQBt6DDxb/wLZck69hyLt4z/toF1n3J1Ddw/T1WBn1XGBYihId2xI+oXmrvFSyofOS5ZDPWYQioEdzAhstUc3nLtIRGDtLxTLpO872ztF52AEDRGxCsTxHqHPk2gjDG1FIvRykB1UbZ0/WapZ+OI3QhakNBxmU0pOVE9G1TOxvebxxgwx4I0NYWUev2uYQuhrD/ELx9HdCcetZ1avtU5macEIAzHIuKYUGcQyozJpEmAkGnoMmBmUqsEN1Eeu186u02q5ziAnEY7EJucDZHGkj8I2M7/NQpiu2pWEG0TJgEM9Vlu54DBOlOuvrq3ZTy+k1y+YheaJHhzyey/hbYZ5EtWB1phjMhReT6JGzts6uVFRwiqInJvPkZCvb5Gxuf4oaIzpJCeqgK0aEdpec4q5lBU0ZGG0pqDylx0m15M8xbTE467Rqqpj1OwKm9Yy2Lwd/YamoWnb1oN0Or/AlxbkVZJQm75uypkueEaeRDgSm6oAPO/RzjtU7AZXIsYSlVeXns/xRSOciVIPwJk1xGApS0UUJjk5oF/wSz0G1VFBUZ7E4ByTofB6EjuKROTYBc7DUGVgm26nsdPKHclMJjlRb6vqV9le80T8ZmEp2rG85lIRE/aD9eYXSDEt8aheIY1+jztPC1/aZ9zOBZ1/U6uAlozPjcQ79PcYYma89wB7GzwC02VcT18komNpfPSw1dHZEDqnz2/G0fNXinQZCDgqU6xitFezHrhgUOqRfCpiwnKwljYhYMuCdZJ6EgNtH2risSI/Xk+iDh5DfvzLpjR0xv7pgZMXf8jZth1g26TW7vB7Jyei7+TEdWWM7K5J3tm5QCg72B12UZ466jPpUdMWwxSLgaKCj+c/tq2kmJY47HKBfrR9jqs6tH6FDW3WlXX70VPjtVE0VVyEDRzL2mg+DPDS+IJPMDO+8ZUa/uBY/0Q9idXPbO17/BiFNspjOc21xkF2A+OEBlcibqOqe5TFgR11JW+9x9xsaX49qk7hR6Hb7WGM/zJQJ9AjWM8g2BWlYidQo8N9dKymF+ZJRF+ynn19//i+eNvvdsvDwc5YePrY4SE5lldT7FBsRF3UUroTa96lF1u7XeJtX8mJmy/L5F6XWU63YfOxT275sPP61jWiXPm6tXn13nCHAjfc21DxxU1FPAwRZ17ffErNOiwc+/U6W83S/5tSAusAuBo8bgHSnsEYsm0uS0vUT93cyDaLb4lZW366KuTp09TR3XuNoAu15xASViI8ft8nF/7557OxR4RV9j02mBmf5kQYIPzha5xjQjmJ6/f/u00a8t59ZI/v5h0fnmvqdqg8RkduK8rdw1vaepau3agCPd9PFGuA6q6oKXAy5n8W1vno0ZckprbfUeJ1IYDXXJn9rLffIS32jmF+ms2+pv83FfWIthE+eyIuJzEkmj0kXk+iFVnIrrYnG+SYEx50TA6MWfDu6PptojnEZ91VL7lzZH/2kRyRedMPOSt0l/Oxe0QTTHP1piqqkI7p3okiKPIVTCFMMci89HvnO7ACXIrNVUP5XJlQWiIGliNXd60ATYGef61H5DYXb9zmjF11M/f4hxxwHrq5/Hj2lxyqJWDwDdOLUiUwjOGqY3KexLsPcbgl5F7FS66Ff6ms3JhX3Ch28RBRPe8espbz1tRo8HAb1KScVNHzQ3OgZICp7W+OFwxeD44+SyEV8fDe8W5fnKkFh9wUL+3VjzjEdYCtCLdkkZ5EtVpHUgZeT6Jtb6hKFSJx7XiXHZGINxk8fU8nHhphKO0kdmJzBWZToIxF1+TEbIXxXEej686C+uG53kxV29Sh+qhLgnRClVUfpuvVWbmo+3uqYpPr4gXbR2pVn0wXOBTFtMTgMVzfWFk+5lra2TCtwTzbxphg68QaG9GDqoi1/qqm0Sjy1nAXbsijaWSMrtMTbxYz43u1sWGe6eUk3ucVhBVa+feW3GtVXABGoDFMgZ5NDNHK1T8NKhHWpMFNiw6yXP9l3rlTDaTaosPZhuVKeIHm7091buAbB7vmDTT86A4lGTbWbm0YysdGG314nxWZk6jV+khtz+tJtH2qtonNLJNcxr49OW3HaRVqhsJdwjo+SL4NC7k2tMUwNq4J7uah0j5GQLW9K4qP2vGZjn2rfphe5IR0Ct5Y53hzIRXx8NHLiy+iywHPd5/vC3whaqe3GZwXbmuImLnQM2ofenVmNGNVhLeKuR0U7vDFqaQJFY8OUqrRQ4DpjUbHla7bMK7G2jUeDSgn+PwOsGMRtmZinkR3sKPPoigsKrwMWHWueSiOrs38d/G6DToeN/c/FGuofQfyzU7+oSgwyXJM6k5DumMAYgZCPVmNFFIRu4/xX1VZLBfvz8hM0X7mPykG5hUPT2ijz4j1JKqxPE4qvdeTqO8pX42tJy39fSqIlbxIRBMI1coJ6o77qkGxvlIOrn/pLzG0T068dpvC/D9zdHOLoqXuR+u7rkpFsCu4nZBOgeDo2G8UVixaDrN011pdlcgm25gvxa2j352M2RmSoiQ5UmKPXfBp3O8PWWdqremSQMzaVuPjlgoTj5FeYycOW5d2e1YtWxq6jsY+CVf0GRK0uIj4larraeQkum4rPIvie0soj0Dw5BuesX2IqRy8K1/XH+jU+Yl+U65KobgdARxTzh+LgTIV0XS6ndWC/KQGX2cghVTEPsb4OpTVmYumXcFppMOVHuKM/YBGHxGUic1J1PZ6nBG9z4ViJaBjStRYJN2rDJgOWRefr3OoNxFjHvXa7vDU+3QxuAur/Pxo18iMRtxt7zbaKNKDa1PYz55usqBzza1r9a6qTnqDHRXXqGiP28UobNwY3n6gPJM1hp87e6+iEs2b0n5aRH8jKikjmYhRK6YlLrub9DZYV9C4IlFXKPN089emKSYVUeMkpknKH37OftzI1JWUksZSE9Y4zsFoM/ntUg33Dz9eM/PhdyWqza61jzAznveqFT7C4TMpT6LRiMvf642O2tPfivf28PoqU1dSyneLjxrlEX5v8orlusv3122W4t7gSsR5DV8iJ5VqEVqG8/rE5XK4v7oz/9XdSJrr9SI61rlszYRlcH6ZB3huc1n/5h3IGF59Mkca3ZbQRh+RNxPrSdQHcpwuxOdJtH2hY0rUvuyM2fwr9crZlLxco9AnF6P0tGnLE4kY5YZQmBfRYnGVO2ORjM9bu5qkIT+mdfaPXE2fTV3j01uo+FiHxsdd4DiS4D6xllfXNztMnDnBvKWEvHE3wx0zlsN7+Rn47W5NCmYq8t+N1AX0l4OgomPkEIod+db2s+KPMnYLTyo15abFY+cf0XUJJUeA/qjGUIVcIbnwJvVPwnxg1a/GlU5wWq3bW2yJL4aDME9wH5WQcw4cHfMDzc9Xn13yNtdp94EnqSK8HFXWP2iUMmjkyYXT6+q0Cb1uQ4AMjrCG54v+ruibrXp92mbNq8/PmGwJOrDOUeFiKmIvY3wN2OWHr9K1pm9XK+IwAacWaKOPMGRqhYLjrPodKI6Lx5No1/QrmAWYqEX6p3tYQ9S5XHejTqaYrX01N9rQf9dVmH0VnVprRDOek7lC+s7MMNOaa+slR7mADkTLbdNG8WNE9fGB9GobpXXDFAMuu3oNP6LjABCJm1g11fahZufERaIdkCh9jP2jOZJI1DF8fSjQaALRGshfS0y50W/2OVmrWXxyYeLAXuBN3LpfcFS1W5OfCqP32vokrcpnQNELx9RIfV8TqMXmKcNYIBKcvK/0N2UhGgiw0qPU4X2jPMKF5bpLaM8sKQjlGlTT+UedqC3FpXIqI8G5rsveTAeQn41Sa55UNAs9bZ8K++T6S8wLTR1H6HMigrsDE9roc0R7ErWLqrVaQ+LxJNr3X7Di2vwSshcllS5XsdW5iGIQ6phKGcYWrTTn1bCMS05MzaTaFrkATEgmbvRdVifuWNmNcobNlDotjaiztRs6tWrW2RIWKfsB678EjIpmR2p48vLwK4KHJS1F4t/48+PjaPMj9fs2uIrySFhnf+2IIDFl0Ih68u7qLu2Zck4SrQHFig+b2dgeoLhm5k2UzUdDVKmpV5KPfUMuVICY+Q86gp9ATmIq9DQYg5a9Nq8kN1i17nKUFZ29hmItsNV7s8VBroGoWPPLIZWifnOuPjH3WvjmwvhDz+1j0kqCjDMC02tqKKQi9jbG/4ULuk5J8wASwYEHESPJBgbdR4wVjc5J1F18+nrGUdR7Eq0Rt+NckInEvC00+j7XzWK0G+xPNWTjksGirvf/4BsMh+8xfozXrNHLn+/M2D+3sJnK3OoKo1Wj+Gm2yOJkXOiB6JgPxQgKqYhdl131oz1DwWabKv6p3oFD8Ijh1D2Jzmgs4Sg3pl6zkUWiNXj15nZmuyeItk9jmPIWUgd1RTUHCdHYj0PmbVIrmUur0ffSYDXVqVdjI2FmfC1KzojK6JmQJzFpsTZhR3qjg9EOTk9ljicUHlKoxcJDfE9/dn4lHe39/PZKX6T/Aas/yTVL+OZinByqt6ecbamobSNAKYVUxD+9jfHVWVu4OdMWk4YBYdo9UN4beA4xrs1oT6J+SVGMjUKtJ9GOXJbFpZQg/+bzv/Kf3K8SchUY7zLOx5QtQjigZlg/O7V7EbEsoTU4eGyz9GU7lVmO1/xs1d1u9V/bNbgOnqXPpomqr1hJ76YiHgbe5wTbFZRsoun3djo0CTc7z4dlm3/BnsrhsX4WwyWJROtJ9MTYbW1Gf71Nq7mbli4fFI28aoPG+QDqyUv/Hw4Z5HDTC6kWFxZ5sr7+J8zR5aIdwiSGOpm9keDjIn2trtFVC1MQVXjyjb8C1TMdDzozu7T3a7BYOMsvHLTzbVo+Xbh7fX947Sk3A9/cXtgVUhGfe+yva96QtC2thj1PWOhC2IDARd1F4T40DE6O0vqsSHTry7/WXVie+2j9KN6cPpwTOVbBXw3tVXWX5fs7xlYKsLLp9EfXNMnxGleC2q3c920espUn/+lvZdOxUI9K1BO8vnEefx/be/pBZS61SLl7yIYJmZ0RcGz8USyP9SSjPBJq0oPeN7R06tsoGDId16EI1PY31micl+A+exxsGE40dEvNq5uo4Ivp2qfkScwhN/U7sShLV7dpN1UIziDFpdHXmxvFOj2gXhbFOupMjoucdIT0OlQAlKK5d8f4D32O8XXwWJLD5ui9dB1TqoTa6GOigPGeRMQeRraWQpUncfOQ1YGK9TG0mXgTGnSsGqn29NqDe1XdxT+XXyOruXrQktfsKjscrTbfutDafpGy2+UWD0rqfT9xhHFRv0yj6ySjMH3oc/i4gbrNSq1YKqnczsT6vsHJ6/SjJEtqUw+3k/2Ar22aQWyw3s5Sb/8XjrtdmYYKmsSXTUEuptXgaNPQGqdV60BISF+f1abHUWE5jXUSFdt/laIZ+i5c0xRssHBegqv40W80uYDU4YhiDWiE4f6kvpBf0e5VXt9YD1JKz2N8Xeu8XLeNnRbHcegyFKOgFS2mI1NhGZyTGGxahsA2ssWHIdEu+T58UfE21Lp7rayOO+OUj11bYgTB/KiW0nD4HjMNO+eIcT2wmk9R6ce3ka4KTlIiJuD2gyOp7vY3ByxsPSwwxWU1kuthRp5je3ysRy0hLiekJ9SMhNvJfsDXBonEbCRZrB66Mrvb0PU3oViLWvxiNEYtRNO6C15xEeAlQi8fpc+n6UnMEpSKsk/H8a7gVnne5PbJbHXBtOHRNzn/dHjhN+tav1AcD/naGN+XUkhFbLGSnB/tWcvXxazmlKMsx1CHNvqYOGC8J1Erept31pV8P1miej0mfSjetSO1iUZlPayzejB4CDLlQf0BKVEWE+sjlMb8aklRdNEPSxw+jjE+6AX8glCZ4ejkb+NUeHUklr27ubuZlNkZhVxa4lFqn6ZZHMuTGBKssPao5HhSZ4qbRRza6VvxWVAg+k6ahk749mp9LR96NTDMV9Sj19nNkSLx9duuDaEGxY45S7el9+s+YvWHNo3J9bzSM8LhpghZmEgMHVT0jfTOrVpe3os4wBhfHYkVTs5MnB5lUFtLG6Ufn5OosvIYHZVHJO5r+nCt2d76X5tZ4CNXAUeqB9vsK6OaDP6mGGxWm1Vtvd1c34xgN9wEQcsN7Tly1e2fsean6Ssuj/S04U3N7IyDNbrHEcj6WsbeRABfG9Lq7JJVZVuud+9WYhxtNCVy2nz+v0InC6vZ+PcQ2JXnof/xCn+I3yi919KTWDsy9hNqja39LnU06q11x4Yq/pqcF9rJFT03GipqEpn6s/3ODv2WsUdp8v5DsnJL2Ac+/zaE3VDdUPF+7Iit2OkeGX0iKAYR70lUWRmR2NUbNSJx9/m19k1ozfaOItqIRNswU4ad75phN2KJSQxRU1Fy/qLCVHdAmga2+rF92j6t3q1oPMriR/0Q2d2o766P7T0D0RpekeelDS+irZ4P1gczftq8QW1rpOjojPY1ASLRpg6WuyyNQbjVGL+pKYJuPdjFYAz+vnHI4nNeiJXxB9MxPojKRW2Zk2hdcnGEWmOcXvE2tX67Ukb7paYRqtrq4q/VCBmKtagf0y+k9B5HFomin9vleWizfWuSye1Azax6/fJJQlR0cnj0iaAYRHxOokqOkCyZvrEi8fnrarVK/99q++RXdqqqUKwmSEm6SPvT1jmecMKQM0YoqKko1WUcrzYN+DB7cGtNbz7G8KAf8LpCH55WtxGdV9otVBg1G3EdJblhWmQCeazhWIETEIladSpuUdeBRxHg2n+hWIe6merMR6M58JhgGXk2tEdzTuSjn6Qn0crtcj+jz8ht24HOC+tDLso3WOzGh6A/29+NqbdzXNmDSaXtkn3gxP4cZpCvVqnKyYmPmiemjwwafYyTqYUnUePwRxWJ4QODKJGIYgDSY+80oX6kviObvhIzsNKRfFHr6JzuShOkDSD/y7SnHGZYNgL4AaEtxBr1caaspGhUFcU8urT/1MzOCLzYYPNREhITtOqPPVtWf3iASNRbrFi+FJ8UjHygh06NY1EMqreg8ZXoBUp2ZoNBW8MV5KSQR5ChLsFIw9zSkxhojVVlfUc5h74891HUPjkXHT6WfizecGOkVo29v09XyTrm+rjX6PEqHlkI+liH2f5AvSYVjl5tHFFibAxQJcL1XoJWj/Afoz1nVJvtCSsSwwczQfpP6xKKzchDOKztXzY0417Y2gzyuJesHQ2KFngYqy+l7sd83FMf/2AbzAxN5Hu21S0hZhXz9qhtqQrhId7vLAp/IdjVOY/mxNb5we2iXu3B14ZYW5xZ0Zy1HhdERPXREhotKda70FhmVZjy6fP5Y6Hz6RrGnDoQj+pwJulJVFFRIVh0A1bXsmrn1dDkVb0Vp5nre2/sLdVd4BeJqqBHCqwsvn98/kHf1VZsaLNN2PU/8RBXrmoBmvsxVip7MLivqHYR70nUffmOKhJ79iTGikSzgb5p7JrN0SqtNobrmRprQ4QfVx9aKc0NmrP6RaogdeIfau5PNeAc+Z7XOVWetKsRwrza8VZVJyilUcTqtFAPzBFn7KgZaYrN9g2+NqC96/iiouqokS+0dBxtcI7WajQ0juZ3UpFCYSMi86q1bV3UKxHlQW+5d/M6zb/+EUXyB0+BUgCKp2rJ3uqBvA6OUKwDZq3Uh6vkRbEedRX559CHZS72hQ3jJLTO5nrXxX5T/nro17mhLa6qjsFkDS4LopH7ihOJWj0iRsj4i2MYbCsSj+xJlPPTxqImdGAPg7s5X1z0U01F6ZnheHWb1+9zvklHnOFDimmhA0sUmyksTzl41FlVaVX9lkHCUbbDPC5a647pwVYzcixPYrNIVD9PxQqq+lFhmIijDf2F9hAlRwyONw8YK3LZ7KJcy+b+v1XoqqUncVC0r6h4YvpRIaAX2C/hrH9QtKDSNj8Dfcf+R6zPdJwE/Czyv+gSppvlO875lz6jzjqir2qb8ugnF2wObfQu8Z7EVl/TExMRidKVS3etfzqkX7mw4UrkSK7uCajxrWyC+mGhXuDoqc6diB0MJNy5W670ue1nBfiWqhuEVBpvitRUWNsXcMTYjTaiLsOjDVbVi1E7+NoAkQgbUdUv/SMfFeMvONpgyNUPWAx56hbjzZ5tfXa5pmNE4uHPR4gdaSUSVWJMSSRq6mCFjFf9VZDxavf9gyP1aJX6BTScZneWisSKNRVyqNgfx5No7O5hubjpOjL8rVbf8Ke/rkvfTlVYUzyYR1qKwYe5r0j5qtUj/I900HNOnkS1oig2IGYTK6Zp8x5uOsHKiTP/Cf/pAH9eMpdo89Xdnhq0QjXXp3mikydaiMQEd/PmP00bTHRA21ZV1waTFG/jtqtZm3+TGQfYEdIxYzcqlSKrjoO2qQi1Yw1e89gA0xar+nmNuaGo4GiDjkLIs7RAZHBKYpVIjEHn7kb1uFP0JCIqUWVw9REVjLse9rvS6nzIOsW0ucdQFeAfimgb6D+5b2DczZtvH3rK6taVByoWXEDj8IvuoyA3FicS4z2JareiBnY9YW1mzzmJYY0RiP3R0JeasC4uBg+PtncytJikpTdY6mJh/avfo66KWAiNqO2doB89BAyto+/+qWBlhlqHRdOdK/pD9afEVwBNl49kKt2ripHj3lAfIvELLhExytC33uy90fFFhbZXT1OxpaOTa4igy0nl/g5NIsBXoNa1rUsIfx71/lU4jT0b3QfGmlUGF4ap2Ilosou/X0IDL71HfQYoetAz/akD2gbCO9/JsHbShnqKB+FiVT0/3ucEwz5o9FFyRccQ4bk2areOoZKH8iSqJAqpOzC5NvSl+mEIz8u908G3W9NZ33DpkeF4dfejPreCQbCdVtcYwHGAmW4hcd3kxGFWVMiMdYWjVr8//sFrC4hkIiJRFc6Rp9T3IRLVIR2RYmUNnndX0RR1U1Y8JZXZRQuF+/H3F9ri61ISA/pBtZAoRoM/j6qQU/Qk4pYqDK4q/KJ+DJNlUCTtUxLt0/K/TB3knKBITJip48+w795da8uo6E10sD+ZaEwGGv1PFIOI9ySGTZcfhqFEojbGgK5/I00yM9o1gdnu3K2cZIrYVETlO/4eRYu+x8ouS6ewl/4Kh08v5GCAOW3Vc1y7yYn7IVYLUyVYbltWnaMcwUmLxLUqq4gmPwTajXYYHakSiBnE2zk7jR0zxrlV4586kQbz4r8fVZhFMxGektgyySOjTavVmbgTEok6Wq/oZHRwWBQVmgXofftar0puQDy3gCwNfcl+q66GJGKQMylu7HSplIApU36046+oYtpTTFBOt2mM8TmJ+hfHyBAaWiQGXFY6rfyQzxxI6NfTsXY1Sfv1V1ArSi/Ym5KonVMpE0nr2DGGCN3BzbftOdzkxOWs9xULtbKW7Zd29DEKA5y0SLQ3f+T0HisS2/eQ6l6ozu+oRsfwzZYJDbPq4vJJOTAc1F/gBZQ8D6orUPSB72lRdQW0uqjVhyboSVTFh2IereXFNBb9Fd63/xsnFRWJiseATi2s/9O7HCaKMgZu2tD8uZPc1ZdTbnI2Q2aCcjqo0Rdo70lsDIAMwFA5ifq+G5XYnSTyOdpJK16fzrUn2zkaFh3apV4CRYunV8kMWqlrVl9X2LSldbVwvisdrjixfJKl1PY85zrg5mO6aRd3nvnPj4qJil3Qt16qh9aj1KLTc6tSMFFb5Q6FuljKo5WRsTfS3u5r04nxYOiIvLGnV9d/RVaZGreSfQoyjRiqlto7GkKIHYDIa716UBuRqe9rQjmJeGIVLVjTxksPU3+Ft2vReoWiRd87ij70Ev5uNXDVxklTSBvad/D16csp9ZHZcgw4MCW00Qf2mAa1QuEtWOveOBPhXYbyJOpgrNF+SxVz06PUQ9DfoPVV5b6hXSqionHK0uvC8eqfXCt89e03Wuynj53pHJa7wjdvFmlyyD7rbNcfu5/JBb/l72T2Jz1p91721b18ppfd5VTzbJ80ysOfgDUMNUTWxSu10fxVod+osz72UvW2Lswwce6wWrTimHOJFdveq5YNGRWr0tuLRG3UMQM+60ls+lq9v4phLr63nIWk/aXvhtQdVYocoCMMqSVyZnv7qK0CxSDUTk3Ik4gnVjFCVblRUiz6Vr1PGe+3FCrC6w2JEeoT9ldNNUIoniruyonLVdt4kDpSSk0j6yFwYEqEjQdc4j2J+mzCdVp/DCUS9bpN6gGt2X3ANn+vi5bLKMSZu6ZO6Osqtn8Vj9Vrz+ktlPom1Vn+H7tx1v5e5t7Wi9qjAy6dm3e2wzXvsma8LNze2rrF8A5y5+qf16Nyvtv4pviCevQgq44otmA7beKyNm6+s9q4dbJFX1iXXutBQW2arw+VD422RZt5WUyqbSv7GFVI+R6uJl4Vz1HxGPA49NTWQzOt/TF7DemDm45IVINbYc/R7Mv3qo/OF/qo3QENjSfksWuyHoo14KQpTRhvx41ugmho64TRallU8NZUROTwjUcbH5/+ovDfo9107wlZAQwlErX+N/hpMLAr1gr9ij7y9DaZZkrpvhWczo9G0eLNKdIVtiqGDvjE27NkmgZYhfqU6St51rrHvwFzf1Qqpdw6aTq5s5fmg3X+3EOTj0Z/c+dFmd3kxJ8f7d1LLqqgC4ukpDN89/KVp5kL2hI7JD++NNbueuQAimq/RmVZ721T61TuCXXiuM9PpdPein+tsZeA/lW7mNajXR3bxYzGpudJ1Kk05QWQ9AFVmFSYS9+vUG9jXagopMIGfE24J+UUKCQnvsX41RTtTYrGKXmYB2l006l8GSGNvki8JxHdclSGSF9YkRj+UuttZB78KL9UxsTm2syR7gOH35r2IXRJRVTQ/kvDP4jH6lwv/UUVollVWb2p2MpX3v56etxCLuq32IzelPSNbPN7a4p6w1NW8l2LujUMqQ/DkZjNuYZhA4Yg3OTE+aKz7jToDbqGPc1xOWCBq0sSifZ1T2FEjluJMq7dUZncmA1Us1520kTwQZVEw0e+Xr/O2mMsG5KlpMakdRPRn+Bfxc+l5d7NA6Jtu9x1wYhVSQpYGV9nq+OI4uNV8RjQh4T5elXLHmMyQv+8uGlD3+LjQVrFCp1k2mLupXlMUSRqo49ZjMX6RlFuBn14g9NtGDp4Ev3OHvXfoVjJtTTmnyW5qUasawT+wZU83wNG6Y3oEyuJC3yX1VXXeZedNqAKq6FPqrbjFiH4E50SBi7yZH6l/7n4ileSDJyNP+LL6lUNXdID/5vWr7/fX2dl02lEw36GO0i6DKMn9w/bB1WuDZlrMLn9aI5CcuK3VQ8rbKvfxn1b6chhi3Y3rkY5KtZ5F9LPDY62zXH9KDoUadI6aoLKagLDzsrBIH6T7+JyRrlLwY3ZXsAxHy51a3CFgwvE+JPVokynn9YKVOokVERX1fKAZ6dVBEWLahgUr67qQ3/qXfL7evU+23jdpsj1A6SMEL0xf/VchNQt8gHVMcnAfLlfbUTd8uFNGOePayyBFYnhUdgwkagNwFNP7qBEKr76f/JJoyfLR0FzdF7FCdTmHeG4ypHrfV71a+upuAnr3qmxOWKdl/ZByvM3F0rVnQkJi11bmcHum7kOXuxCvGZys3ITWbeXSsxDamJFJX5cvSRnLMW0wlI2VEq0j75WtFx/uFbmV2dVr9XQsS7pE0xek3xi5eMxsj1GBWOyhB6TPtujPv7el0P1oslisk98PVpxSiJRxVKlzkY0wTNoUndUyYmHl2N1m2M+XNA2OwzNYHlj+lxVV1NwQhvskKeosVShVfpJ1dp6hkmwQaVOH0EcWyNW9dk42kn4fb0hjpQTw93xNjJyZ31DKBvSF5a8Cqnz9p304e7pCzR6n3O6iFqXqg0IK9FHM+AOtvWozYpwqKhx979/bakeXyDUZtWQ3Fa11pWhEL3snoqoqPQs3RmOqwxMztvbKqApiVWCuCE5yzgLcxoRjsVUPqfrIsvkEql0s1QQqmnUVpX0BzvcB4ySvVTykUhCGcJ9pAds12QONdV8OalPb1zRynSMOlu7kxvSpI8h/ZnygY5D1oeeRhGTxSa2jivL6tCGFDMC746OQn6hXIcdYaKsaKCoOlKr2R/1Aw49o2QXcWPalBzzUQBNpF5FNoJfF9OvWXuK8tGxIbuC3byuE3kGNQj1iYXqNymNj9Ff6XWTrvNQZ51U/vk1QHexP0EKyYm7mAGpNs7cy0k1Yrr2iQxr7KPaLaYzptcmXVIE9Wj9CA7p6KgjSnT3hfV7hkcedDMev+zSKWL1rijts6pqEUa6dba4ibWGVkEfqYgKrlxq2Wp9cMdmxyU7xlX3Q2VkQZtGZQALKa65HyCvzLyv9Q4WS+rpffLY7FuRfmCXWDZrLfGys+a1h/YUkfiaVN2s45Hxkb8b0fhAr6vWbN000j/d5L0+XKtjzXRu8/bkA/zix6Rat6tsp4K+rKl0StomYpRKd/CljUNya0DcGcC6YltNiEOfcf3QWLtQFDNwHI5t03prwpA6quxQXdWTEW4Xs6XqpjKWsh1tYYjaIL3kU0+MSrvEUr8Eu4QLm1dd549G/9XQ0uQkz62cJo92gGU4PASrp3/wJ5m+N0YiraVQ6HI0fccdhkg9o40+XA5fq4YKll34+ccZoVnvQvDX6zqlTe6jpmGSladVVciKxEOoPzbHYyFo+Rwh8RtR8VvyxqjpNk3+zvz6rNbYLqeq99AKUPmh/GW+P5DOFU8fj0deY/Kl2RjMvln1I9pHjlIK9KJ84GhEzcDxPju10yj2RSFRIDq3JY99uHgZT2n7lNWCUEvMxe/Twu05R5yzXr6jc7YvdDrvqIavNkZZwFq5LB0hRef+V3upEvCQ620/TiibRTkuLbBoPlzUcnYY+erPC9eZ2chtXFFfj70j91nCJtWGgmEQ6n+FGrXSBZxlLcxLqBMq+nidulNCXaHh4uJk+GWNjeFLYFW1mVdoP4/mHZvng7diPAbSCidixhLwY8PFvu2Ugperhao8zngi87h54sIONpzeMExSU1aj8vTj6hOyOhY/btVGLvSViqjosKF8WXyQVt6Vuf/MBWadOJU/xz7Riq5HqpOTOyTG0bUsUOR5q6UVMbdOufgbK96bOnXyH6HBeps3ak+4FzqUQnLiz/rgUBM26Xb+efP4NDMpaVhREh3+/g5j31xI//y4tuOuqXiCNCElJkzTGbuWdsN4IGux+dszQ4mEei8GWl2tbdS8k7K1V0uc2OGbv9L/qPWgNyc+NqN1H8Um7vJGddcgsEcCd5OQs4VrWEJdNLZM41JD+iJQzNBh93MyjDVfU5u2EZD4mKDXQ/G8KKQNBXYR1urvZ//e38i7lHaALip5r2vpxmLW+ByYxnFHAe1uUzBdoAENUwad3DeZI7E+v8JlbT2lTa5EnFXdv2scP6HieyUPz/AzujLY3jBh13uipz6x8l3b78XiGZnpypw4lUOBTMfsi5YLHWn+MA6hBPQLcuMS1Y25ULBY+opb0HPzRg3Zqr6xg7plQscXUTgZA/4huZfcqA2ok6HwyVlrxMwwheqCwbHOumiXwONm87Td3sy+/vr4+Ijzw4S6L3OGcaktaK0Obs94Xr1DdXVJ5UNZqRfraf3vQmNvML9+dIyOoo/NdrXIDJhhP3vyT1scATvGSBq0dYjqRgC+tixn1I+V8Hm5nWR+DaG+JZlco0bVgA7jON6h4XFmBdS63l2sKzEDPbgdteENT2OgImijD/CXbp5WzrYYCbuHH41/WJpYPx7bvJ6azx8CGr74yIA/1Q91pKoNPP0tnxl2xU4it2VIQpjUzpH9qLfo7qcZvTqKOVwbYmYNC095ufNc4TjNPi8uLiXPMP8I08kqCd9RFFSt5f8aLyo/hBMfZEWICcLf0fOo+b50Q/zioeJPr/8n10/oIBIfC21y/k07kFw3k9C8vcwpY7P8pxIsTMAdxQ+P8XdCnFbSwWlTp+VYxj/Ps+3q3R7yumKxLkOd61t1Ztky2SmEBo/VU69CJ5mmFsPf1+6/FRtPjsNuVzLdI5JzMySi8PP99eZd48F+3QU1XucG1JZSYXLcJWg9Cz/AoPutlr6Co3iHRmGTDXwCRWIuq0H4aSuoUxMPE/IjJuDe/DGaz93BrUB5Dt92vrm1Hi01LDe6zkzGbUOjLwn9g8dE10uI3DDd4O7c7CrXhPrQQSX6972mIlpw8apKn9eCS3vPr/nDKcvSwhPO88hfGf1B7q1AcBZGyhhmOReWQ45LQ+py+R3DXLm/Cdf01QjkGQ9Xda2V6SASbacKPjKVnn8zXb5h+mS+7AmNwLWhxsa/3Rca58bW8WeTPxWnVWiknd8aQQXWSRDPdm15u/fN8yXwCXeKNttv8y9xlUWNahgkhhCGLjwi/5Pn4Hcuw7D9rEk4UJd7RZft6FJPl64V1N+bqlMbxbPkWjdcDRWJhd5/n7mh8p3k28QG9LAqfqPi/rIKPGuq4ymOvwBOUaqlNHQh5T/xCAQNJ5VbU1E2OTrS7mWcgU8CMS+j71RERb1PVcZ1Y21qXjvb4a2lZN4dJ0K+OUmPk816VtFUlM2opHnHLq6ZF/EIa6OUA+bKtWnNE1cGjTYDJCd2knB5T66zcoKmmCWvJCBScMrYyE+nGGXP6E35hUqZx68fuUhE3GSjwO/UZn63tU9OaFxKqyHejE+rFjJ4zKqp9y3htI5vMigKUKHAXI445MC9rV6cuFPyi2ZNNQIn1khJfeFVLzDzjJUSg/JgoNAg4yEaxvcOjYskJ/6NUiMvuQbnJr/q+KppEHAEtAP3atdGkVifeK9BShRH5Mf7R/HfR0Nf+ZQ7V/75bCaaVHnF1ofcBdJ/ztPZ5D6Qf/UPr5KkA+k/FVG5l1uqeVCSi7J8z5upWfoH8lf4V35muQ+dJ2oup5Xn3ga8MjclkPbjjNYw6s0Ht6WqVYzpxMwWbBpG1ChVgczRoQOYaXJiRz8fdgI4FPMjMFl1PyH32iBYF0jwgH4MQkO/VdjweaRDTWVPQz+DuWRp1X5c7PSPdh9+35ABI8VqDbeuaOQZYjCX7zVz/YQGFRoMLuM1rg+u4Sr9a+ovBkRHqMkbuZ7tVF8vvzSJ+ASoyppq94Afh6KL5DyW7EgB1Bf/1HGdwnREZ+xIpCsnRrTxH9Kb/dwXXyVcJpOTiAmof96h5woVq/ZfvXFBxx87mj4FdEJGV3MWya6nbX9b8dichBoOovvP78+LP2oGE8r2S447jUo6HGeYKofcbEaDtMqC71VMqU8BVmUyDsLrrqPbJOHp6amyHt5XHz4rrKf6EOd2Gxh7WyhHoQOmOEeMnSPW8NLh/rdB45en7b0/zGzBqL9dNHizbTQf8LR07jAQFYrZdGVKaOYTilfr+6ftY1hTVn3ZylKvf9w3NaIgJ22DVD0vNl/ipsttttUTozbbwEY4NkhhGMhfoukLZ9lTwZV4jgJ4FHQnrDzLivEpelvHASGi0tGNFYcEc7yYCA8nG0oVwKUxtCORdCVbunViXgvcVaveGrYlMqFR50jeolxHkC+oBjztgZ61JvF07jCukUXf46B2TLpoLPxt/yt3CRi/NFQeVLFzD2JcCPDhBPixW4D6ep46CkM2yoiW5LyHhsNiVjmSksiw4xPAmt8oGRDfKI+DRe0V35I56LN0cGkM0y5If9gsn6lZGb2xNr5oFYlxUQOY2yZ9oL6mVj04fFy1i+h1A1kg3V3rGu0/0a4HtrHV3UNoD+v3aRiHwN0Y52EjUwV+mkFep+7fgeK5AZt83jNHh0Oe3n+7xWLx/PBaH+aQztZ5yiL8nHG25FlVhMEk8FTo1FDr6/tgnNAurEbGw7dW+3HRiaRtXDoqMFEMJFCW6sTTdtF56JdBfETQNz/7iDzBl3WarkS595bzPVHxhtHHcCQ2VDGzXvqkloQmXcBbH8JlgsSQHsaFk0RH5IF7zxAHDEmb0zAkcOTUTzGDjhWUPKsKwyj1u+AzlAvUD7avB3Wwk97IVoOcXEqLJiW2Ua+ofv+hGIj8UeOjCJueWgdi2oMMn6Bye+kwMPHsJJ1ZOn2nXY6axuyH0MdwJDc4EtHx05F4LsCWNeWxtEAzElE8PxDSONXs6OOCeodSPahFTscnnYkzzjZHqkSdfFBwfMhklvqxNt4srdzUsTkLE5TzuLOfKMaAP41zQuqgtSnQiNU22iat9ankXNR9753/HAx+5hSnizYBX+D/UIwFSq5qJaKuwD/rT0nVCVQTnYdB4hlsAkaYZ/qUgb2kv6kF8EigVI/EE90xjDnk2CB4lMoRNHzg9jvojWo9LhCmTDedOpq7N1iafhdg/1r0lTq8jjOdOiW2aUo0Tmu71uq1CIVeYsIOuHBfHjBIlVNsxOhXWo9R0Sz673mRYdUwQMDtn//yNxcERuN9634kr571cppi1iI3TSEpUj2ao1YSHHNqkfShjoemNiWx8gOJTdfbYFi5Iy42REJQWTRM8LMrmpQY78uC6YzM6dLNABq0gYbBW2sxSNhdPw6/DNx/b9IGQdsT7ICglttnu0uX3nu/pG8exRpQe4fJiSTHIezVx7KWXLKeYgcTBX6qXbsc8IumLtxc7LvE3jk5hRIMdjSe7KFXYZdE77l6EHG52l4SA/GBtrUhfaEOtwkmJKZoZll8b4mswchEnUDPpWpXFFuAZIyevbe4ao+aLszvNT20XrePlOMKhf1Nu4I9nNx9Zkug2kfm05KJM8SE9TUW1Boie3ZCwLJRJUYDpVY0OA8FTwKysB2nnog4Z5wtta3Cqopdc3se6TxqeyP0or02BzIAyDqbbEYL7i6+u4Tci6yB8keN8VW4ybuEYXGJXtd1gFe4V5/wf3LNVgtCHhF1JHfoO3GJXZ8qcY2Qoz+MrFPJOJ3zzIDrpMeh4fX5JyQKGPSfYEzj2MiDK8woSUNOziH0HSgJIvycTFBzRK1qTitiSO10Z5INWdtJqu5HkUwV9bdNtvGpay+2p9alw+JEmC6l3WTFEcvsstLhHX5Zj752+J/6jZCqrDmxySuaaYtiK+BF7XGkqw/T/9L/RfViqs7ZgUbf25DrGmPNC8hLgN9p0a9n/wKQOud08NfGPDrdlyQqOYoN62bnHziS1KXwMP/bfoYRdf5bkAdRN9sIGvEPfcMTR0XRdKcmqEcoVktp1mDcMnmQBU3zBTSW2UlZq33vrcOARuw5Pqrbl59Y5gjUWLd6DTu27+uJPsJv75+l+YSINFdIPEP6DSDc9W1DpgyW811y7BQHOrWc6+DVWBh3YCFW3jkmD9wxoehWTYgjVe22B8SgPDegXnuXv3n523zKWPPkefyfvKkJZ7TognWxlUmzBuP6d7hwmqSFKteOmXqw8H960SBrOIUHyNqBSnzrWX0OSehSRg0gBnPoZ9lzrTbeXu4ONXd55klml8oXeb29JDH8gL06MS9/W9SlcXIJ0kcGg04dmt6IPS88RXPMrUki/JyeF57EWWJh008zhwQG5VmGzEayF2s0osjUi/CAnzro/SftJZJZ9MUFmBqBAIsTCeoh/I5yHRrL7Bqjxxjv0G5XEIcNWmnv86VT8HsPp7Mgi0546igSrUP6o7v0XqMmH7zq7wVtsm9/MJkK3+UF95BFqAPhC9GIV1f3auS4YGIMcMHOd4uH988/KBQeYd5FqMjTdr3U5lCiHBepysuMlA7K7eAHQZhqEfikHehFeMBPGw2uTtrnq8PHSLuAkUrcL1Or2+TE0WFT5xki+oWLjqHFR32VA43M7H2eintLlzLqvCid9kvfOvZL6xlq5M53R2u974H29SYT4Ku+427+6RVq5vKS0hKgPea3DxxEhWNnp1pKmZ14sCgZIPxcz4D6bFJy3nCbtzaffz58nT3D2FU6n17VN8X00umj3pb5YdK5o6hvcV473bAibqiiXhwUa5HTEp67VnPjtE/ZdXAHPMFtOt8NpuHW+hX70xjEWx9590cyk/zr+eG9/ctef6AWH3z+o41OI1v2E94m0+RO3/O3VVu///oBFerSYq/WYA6z8/2ZghwHZfkDxzPEvjtjU+TauOJAg20J+b7VToDNU5lS8aIV9xtf4PSxb2visyhR/+ICh5r+FRUgVZ95k7LMDZv+9897RxXypG7J1lJdBVEfUet6tr25T8cA95qye+7qBLQmtu2F1P/h79G1+/t5WlOESDz3ts22G3jYHRAWkx7fD4IOiXtdw+HcwWQ4w6KqU5TPHfskeRFFc7/FlXaOxpP6vHjXTiJhX+P2kFOWNHKngCYnTH0sqovGRQ08dGQTNVJX09tkuG0s09A5I2gmzeYvFKMRcXHodcXFKhAw/T8Up0xuvJvQNXX06h79UtvAHkYV//j7NYnp/3w+660ziHAjjb5lziyGs38u0xmzTrXIELuqnzOvi7+Xyz+L95qB7tPTNvnn9Hyb9Mi25ANZf+yX+w/3MKaXJurzx/vz/tty//leu8Zr0nsePjlD/STQNLPpT0LH6CRKBOFv4rxeyLf4g2Iti8NS//11e9s+CGm5/0z0V2utnmrbytFh7zyl6cqnMASc3d7qG7pd3vaw0PD6IalR7X2oyRvaNd5FqmxPJJpPurNJG33bHOK0Nl5yWt7mmZ6oCfEj7TeLkekaNvtBI16kP9Q/1zbgMSKQs1GDbvmTOB+SrrZzlM0LXvftB1f7Ee/4d2+LBp4am4/2LnfPwDrHP7PLCx5eNNvWc1dmz4OlHxMSi8TWTiIRiQSzRmZBZNbeUcDC7zFxXc0ajBpuqm8VRUIIIYT4kdQ1Lnp4Xvxj3mrCKbxYZIRFbPKoei8qiQy6mVWdEEIICUN6TqbKnBV2uuVJ7K6NjIeIbWF0Ug6KQei0Fc6aI4QQQoL4V3rOC86RPUPwUhNO471iwYjwDEM5P04CQ1h2ngpLCCGEXAgSuLtFiZwDa8z9PRkHMVIMg1cS1BVQYiLHOpOHCeGEEEJIGLIsyElEJUkgdtH6k0m/g6oN3T9FN6uMmfWLlRUnvyAQIYQQMhUkm58xuDNCdyM5oSnrcCWG3rCq4AivoO62wlU+CSGEkDCwB27LheHJBNFtjU9qigayEgPD4xpORzEETOXhaIgQQggJRAN3h48bJmudBdc2IbHzfnI5ng+GkCWDW4GMwTBXonoFI0LHuhYjJ2gRQgghgegeuAlvOEROmme8zn6dZpgaPNy2s1grMWjTC11KO2IjPwSouUYiIYQQEsrO7IF6m26Fyg70HNDVAHtOSMRFURoABMl/hrj6VAeHz91+kj8Inj5NCCGEEHJeaCS25xkauOyQqatIGgwJISOBMSJ2/E3+4Ci7NhNCCCGEHJ07qKH5/CuO9MNvueig06WRSxmwJb6cGCFZkXnL5W8IIYQQcqF8FzXUux7CXsmDLqeJFbKXjXmPupR28G+8w67Ng027IYQQQgiZNDqjo/e4MKaVDOuK+5AvaVxR+5ecF7z0ts7O6nO2NyGEEELI6bCGx6z/JaNx2YFXGUSuYVPAWTYJCgpMGyCduUQiIYQQQi4UndARtpBMBLrv8cAT4BEWPjRMSFEpHLgeT9QSjIQQQgghZwcSBweICmPmce/is4imJXpVok7gDlR96l5lQiIhhBBCLpOtiKFmT1w8WEp7PkN5MEKmIetKkGHh4zXme4fGpgkhhBBCzgudwjufb3GkP3DhEdYZhM/SF9fWpbTDFCsSGDlphRBCCCEXCiYgR21WF4hu8D2A/CyBKc6eZR51b+ogfynWBOIq2oQQQgi5UDRtcIi1DK3+HCNmC0dhffqjfD6/RdELLha8WA4hhBBCyHmBzYmHSEi0i1fP5484MiiYf/NWM3lZ14IMmGm9xnRvxpoJIYQQcqHc3YocGkQQ6bSVmM2Su7CSL1tuUHbRlMRXlOvZ/CVncs4KIYQQQi4VXV96iJUModlScGRo4Cw8VKo73Z0axXowC/owivuTEEIIIWSCfBU9NMiK0TaQnYBDg6Nx4h8o59BVEv+gXAs04rA7CRJCCCGETJh/RQ8l9B4PvsNsY0PQXJF+kMTEip+j99MYbZaNVpiOSAghhJDLRReF6VsSPW6f7eKLKWPubLf5U71cNn7rAUUPu/n8bZwkSkIIIYSQKbIQ3TQ8jSHeXnmtmrmiwe+AhQ9XO85YIYQQQsgFo9vUDc8bvvGIYMnGQ836OIQQQgghRMhWMRycsN2Sh0QdifVLbRNCCCGEkBRMBB6D/jf8iwXLQQ6wqwwhhBBCyFnxKbJpFI7tv1trsPkOBwghhBBCSCW6Sd0oBMwWGZKNrqPNCSmEEEIIIV4e/wfdNApHWnTw8WazeVo9w404n29xnBBCCCGEVJNtqzwGR1JnD/h6Yce1DwkhhBBC/OS3QxmBe3ztyDhTc44/eYYQQgghZOqMtoy28IivHRl8e8JuRjciIYQQQkgjI4vE46xgvf6yXy6Xu8Xzw5FEKiGEEELIiTGySMS3EkIIIYSQSTOuSDzgWwkhhBBCyKRZP47JC76VEEIIIYQQQgghhBBCCCGEEEIIIYQQQgghhBBCCCGEEEIIIYQQQgghhBBCCCGEEEIIIYQQQgghhJC23BwM9ygSQgghhBBydfUsm+ihRAghhBBCSMLSaMQdSoQQQgghhCQYjTh/RokQQgghhJCrq62IxBsUO7F+2H87zA+7/WyNI4QQQggh5CR5F5H4iGIHHvdyKcN+g6OEEEIIIeQE2RlNd0CpPXdQm5YZPiCEEEIIIafH+vEl+dc9PPyPUYa7h9cfM5kKM/8HnxBCCCGEkEvl0+jCJymsTGH+ISVCCCGEEHKh/DKq8BWlq1dT7Gc2DCGEEEIIOVHWRhMuUEp4Mwf+QokQQgghhFwiEmzOJTaKapw/oEgIIYQQQi6PjVGEe5QMshxO90nThBBCCCFkXG5ms4/v3xdvb7tvHRc1/DCK8CtKhhtzKMtSJIQQQgghJwEiwgYcasvBXMRZj/vOHOIEZ0IIIYSQE0NixIYlDrXkX7kKSuDWHOt4ZUIIIYQQMjp3D0bIzefPONCSZ3ORHUoAe/ShRAghhBBCTgeZlVxYz/B+9nXW/H+54LLowTeUAHbpw/LahBBCCCHkdMDWKO68FZmG0kRO/UlkueCOxKW5njYhhBBCyMkBdx9KIEwkZvOWr+VAYY7KtvIoIYQQQgiZPhIodhY4jPck/pADKxQB5sXkdmEhhBBCCCGnwdIIuYK3L0wkbnG23ah5hiLACjuFTEVCCCGEEDJ5IOQKK17/XoSQ5THO5CoFT+KVHC3MeSaEEEIIIZMHeYO5PZfbAJGYuRYFOUqRSAghhBByasi8la4bLCM8XVzsRo7+jRIhhBBCCDkVKhc4jAYikZ5EQgghhJDzQPZcfkCpLRSJhBBCCCHnBOatdN0UBSKxuGy2HC0sr0MIIYQQQqbOjei4axTbgh2gq2c3c51EQgghhJATQ1yAS5Ragw34CuskUiQSQgghhJwmOyPjPlFqDURiIbURsWxuy0cIIYQQcmL8NDKu6AG8Wm8em9nc4eyrqydzmaIcfJSjxUxFQgghhBAybe5FxmVbpwBMRGkgm8wMn2EhsIyFuu9RJIQQQgghpwF2SkEpI1YkVs9jxo7OmcOREEIIIYScArKUdnkhwzCRmFs4R3IbCxu39LObCyGEEEIIGZlbI+OeUcqI9iQu5IjrNHwzxzi5mRBCCCHktMDMklcUMx4Ot4dl479csiHSD90tV2Q3l64LdRNCCCGEkHHBUtovKHZBruSspYPZLF0X6iaEEEIIIePyaVRcL0mDkt3oXEpi1ow2E0IIIYScGDLdpJe9lbFSYj5yvTRH1igRQgghhJATwai4+TtK3RBXYm6DP9mFpTwphhBCCCGETBp4/9zZJm3ZyMWs4lybaSsHLpJICCGEEHJiyDqG5aW024GFuaESn2Rqcx9zYgghhBBCyJjIOoa5CHE3ns3l5oeP1euDBJ+5/A0hhBBCyOkhzr7+ph8/mOtlLB/xASGEEEIIORmwjuEMxR54/COXNBz6mRBDCCGEEEJGRaYf95s2uH74czgkAvG/RXkbF0IIIYQQcgLIfsu9LKVNCCGEEELOBVns2tlJjxBCCCGEXDhY2JATkAkhhBBCSIZsrdzbAjiEEEIIIeQckAVwepzbTAghhBBCTh7ZboWOREIIIYQQkvFoNOKcC9UQQgghhBDLjQSbObWZEEIIIYQkrJ82m6cZtlbe4yAhhBBCCLlsbkQeGuhHJIQQQgghhmcIxPn8cINDhBBCCCHk0pFtVuY/95yyQgghhBBClM0qYbtBiRBCCCGEEEIIIYQQQgghhBBCCCGEEEIIIYQQQgghhBBCCCGEEEIIIYSQY3F19f+Rwh79o7U+twAAAABJRU5ErkJggg==)"
      ]
    },
    {
      "cell_type": "markdown",
      "metadata": {
        "id": "JmXgKw_uUYlg"
      },
      "source": [
        "*   This means: **“We want the probability of observing more than $nR_{𝑒𝑚𝑝}$ errors in n trials less than 𝛼”**\n",
        "*   The inequation (1) depends on **p**, the **true risk** on the data distribution $D$\n",
        "*   Fixed the empirical risk, we evaluate which p ensures (1) by computing the cumulative density function of a binomial with parameters $p, n, nR_{emp}$\n"
      ]
    },
    {
      "cell_type": "code",
      "execution_count": null,
      "metadata": {
        "id": "k7WvFfZEoYtW"
      },
      "outputs": [],
      "source": [
        "import scipy.stats\n",
        "def get_risk_bound(n, r_emp, alpha=0.01):\n",
        "    [...]"
      ]
    },
    {
      "cell_type": "markdown",
      "metadata": {
        "id": "IZACICPJU7po"
      },
      "source": [
        "Now we can vary the empirical risk thanks to a selection function $𝑔_𝜃 (𝑥)$, based on a confidence measure 𝜅\n"
      ]
    },
    {
      "cell_type": "markdown",
      "metadata": {
        "id": "hqu1rzl7VSbY"
      },
      "source": [
        "![eq2.png](data:image/png;base64,iVBORw0KGgoAAAANSUhEUgAACoUAAAEvCAMAAAC+W6q2AAAAAXNSR0IArs4c6QAAAARnQU1BAACxjwv8YQUAAADGUExURQAAAAAAAAQEBAcHBwsLCw8PDhMTEhYWFRoaGR4eHCIhICUlIykpJy0sKjEwLjQ0MTg4NTw7OD8/PENDQEdGQ0tKR05OSlJRTlZVUVpZVV1dWGFgXGVkX2loY2xrZnBvanRzbXd2cHp5dH59d4KBe4WEfomIgo2MhZGPiZSTjJiXkJybk6Cel6Oimqemnqupoa+tpbKxqba0rLq4sL28s8HAt8XDusnHvszLwdDOxdTSyNjWzNvZz9/d0+Ph1ufl2uro3e7s4d/6zpAAAAABdFJOUwBA5thmAAAACXBIWXMAADLAAAAywAEoZFrbAACHLUlEQVR4Xu2daUPbuhKGrxN2ytoCpRTa0EIPLbQFyhpIwv//U9fWvON4kWTZcRIlnufDOXUIQfEyejWb/icIgiDEvAmCIAgTAoZXEARBCIFpFARBEMYODK8gCIIQAtMoCIIgjB0YXkEQBCEEplEQBEEYOzC8giAIQghMoyAIgjB2YHgFQRCEEJhGQRAEYezA8AqCIAghMI2CIAjC2IHhFQRBEEJgGgVBEISxA8MrCIIghMA0CoIgCGMHhlcQBEEIgWkUBEEQxg4MryAIghAC0ygIgiCMHRheQRAEIQSmURAEQRg7MLyCIAhCCEyjIAiCMHZgeAVBEIQQmEZBGIXBxcHm6s5JD4chd9/23619OLnBoSAIETC8giAIQghMoyCMwI+VQLH2hBce9+mFIPicUKaC0HhgeAVBEIQQmEZBqMzLHhRnEOzTK19aOA75SC8JghACwysIgiCEwDQKQlVu4QhV3IUv9GJHqOKW3iYIgqhQQRCEJDCNglCRm4VQaa5+3iLJ+d/bWzf658pB57BNLx3gjYIgiAoVBEFIANMoCNWIRGjrbPD29klJzs5bbzMI2t/DF97uSYZu0BsFQRAVKgiCkASmURCqEWrOhT/RP66U5Oy8fQyCdRQpHamXFuhAEARRoYIgCElgGgWhGt2NBerGdK0k56/TINjuqhfe3n6olwIcCYIgKlQQBCEBTKMgVKT3j/5/oRRnpxVsxr2Z6KU2jgRBEBUqCIKQAKZREEbkREnOIFjinqFvb9/VC+9wJAiCqFBBEIQEMI2CMCK7SnIGgUoSJY7VC+ghKgiCqFBBEIQkMI2CMCKLSnIGn3AYsa1e+Y4jQRBEhQqCICSAaRSE0XhQijNY5MqkCBKmf3EkCMKbmFxBECYFhJ7XYKiCMBpUiRR8w2HEI730ikNBEESFCoIwMSD0vAZDFYTRoKb17bg+PoSE6RqOBEEQFSoIwuSA0PMaDFUQRuOdkpypSqRD9dIhjgRBEBUqCMLkgNDzGgxVEEbiVSnO4AqHilX10g8cCYIgKlQQhMkBoec1GKogjMRvpThbyYD8k3opuMehIAiiQgVBmBwQel6DoQrCSHxRinMDR4r/1EuLOBIEIURMriAIkwJCz2swVEEYiR0lOY9xpNhXL+3hSBCEEDG5giBMCgg9r8FQBWEUBgtKcv7CYcSAuoVKz3pBSCAmVxCESQGh5zUYqiCMwj+lOIPhFvLxS7c4FAQhREyuIAiTAkLPazBUQRiFM6U4l3GkOFcvLQxwKAhCiJhcQRAmBYSe12CogjAKmhxQ6ha6iyNBECLE5AqCMCkg9LwGQxWEUVhRkvMMRwpqY9/BkSAIEWJyBUGYFBB6XoOhCsIIoDVoKgeUXvpNB3f0P0FoOmJyfWRwm2x1LAjzAoSe12CogjACv5TibPdxGNFVLwVddXDZSvVwEoTGIibXN3rXnd2FVGWlIMwLEHpeg6EKwgh8VopzC0eKO/VSoDwMly0JzQuCQkyuX1zvhtYpRFSoMI9A6HkNhioII7Ch7HjK33mvXgr+hP+8CM388gO9LAjNRkyuT9x9IDslKlSYTyD0vAZDFYTq9MibcIVDxaCtXls7PdsO/yciVBAUYnL94W5PGamIdy94TRDmCQg9r8FQBaE6f8mQUw4oQ3t6Eu9EhAqCQkyuN3Rgntq75+IJFeYTCD2vwVAFoTpkzVdxBG7Vi4pDqT8VBEJMricMPsI87coaWZhbIPS8BkMVhOq8V8b8AEfMN4rTB2vJ3eUFodmIyfWDVwRrlsU8CXMMhJ7XYKiCUJ3Li4hcT9DbveVg7f2F7OEpCDFicr3gcZ1E6P4rXhCEeQRCz2swVEEQBGHsiMn1gYdliFBZIwtzDYSe12CogiAIwtgRk+sBA+otJyJUmHcg9LwGQxUEQRDGjphcDzgWESo0Awg9r8FQBUEQhLEjJnf6/CERuiI5ocK8A6HnNRiq0BR+rq+e4J+CIEwaMblTp7tEKvQSx4Iwt0DoeQ2GKjSDu2gjo0McCIIwacTkTp1dEqF7OBSE+QVCz2swVKEJvB6pFp6iQgVhWojJnTYXSoMGi884Fmaef7k2ga5czfvOrRB6XoOhCg3gPwSiPuFYEIRJIyZ32qA+/jsOhVroXX/bW12JTuzS6tbH0/R2zmPl+XQ9+Ih/l+U5aO9d9XEwl0DoeQ2GKsw9/7aU7Q3p4BVBECaNmNwp85us4IJsK1wjD58X6bQyk3I0D/5Te2C1K17Ns+iXl44qu1Knxuvd1ffO6cWfQgUNoec1GKow57x8ih43QlSoIEwLMblTBjt3HuHQkdtPh//hn0KWl306p0NW8ZNx8xdbYAU/8UJJ2DXzaaYC849HCGuGi6n9a7xoAELPazBUYa4Z/EiuVEWFCsK0EJM7XW5hBf/h2Am1iD/GQUPoPxHFsfXfpIlW97+eoPArOMCPxsvzAf7c5s+KUfXHY8yMi7OzxrjZoyEzHx7xAy0Qel6DoQrzzO0m7ldCVKggTAsxudMFU/gmDl0YnCup0jC7+UudJwensYpqB0s/1BYAv9vq6Fz9ZLwMvi2ov9U6uMUrVeidw526VWpdMjWeojY3aZYf8DMdEHpeg6EK80v3I25W5gw/EARh0ojJnSqPMII/cOzAzTv6lYapUOwvFVzg2ASJ0FgJnarDCSRa9iDHNqyuQBfOSTm3ZsEd+gex+LVvvx9vz97TwfITfqoBQs9rMFRhXhmcZdLGi82KIAjjQkzuVDkhG9h2juAOF/ENU6FoJRBYFE7Ef+pN7dgd148clAvj3xq1CxfmSQ1/6h7f9RTH/nKqei0Gqxf41t/UYfCBjnRA6HkNhirMKbyOXzvAsilEVKggTAsxuVMF2mUHh0UkF/HNiiG94luv4NjAPfkRE/otqlTaxb/Hx4NqChWs/MXxaPTh+D2qImk/HI2SEVCG3gca5uYwV7dDr5i3AYPQ8xoMVZhLOHt7L6qjQ7NmUaGCMD3E5E6TJ9hAR7/mNRbximbZTey1X1Bn1Ccv4lrCtfx0fX1tS1SshRtaHKzX1paU8gqCvQodn3aC4N3ZRGrskdOcHGSPcmO3cZgHQs9rMFRhHrmgO3QTSzVuaiEqVBCmhZjcafIDNrCgvQ0Rl2ATzbKbX/Ct7Qm0cMVNOqPyjjywyzV2JYUMfY/DElDD0oM/OBwfONkbqWySI3rRmDcBoec1GKowj6jlLGoXQ9AoT1SoIEwNMbnTBCFNl7RQLsGOaZbd5NnCWmf0Si7J9oS7bfbW1J+11oaXBhrvGw7d4TO12hlvq340LVhIV2PBZ21MaYXQ8xoMVZhLdoPgYGggRIUKwrQRkztFVOlMiENaaNwPPaZRdrNP3sZgEcd6oNz2cDgpyEe9VHPcn3JDW6WTPHleDX/3/eX4yrL+4d69wjFAjomxPglCz2swVGEuuV/7jX9FiAoVhGkjJneK/IUJLEwLjYPxK8PqpEbZzW6HsH5pJCVW3bioKqhwqDsNYEA5rquvOHZlqEJDlk7GlBP7ukx/IKv4e/SysYgMQs9rMFRhPkmtzESFCsK0EZM7RdCnKSjI4eufIu/w7OVtgMQ7sZt5fuLMTDYgf0/a11yQU5VbaoNU1rOb2BxbsXVRcVN7K9xiLJcACqe1STtD6HkNhio0gLIq9ORwcsgezUIzEJM7Rbjk3e6v+kNph4vnKnu0z95QUaFZsF9nmX2oRmdAF7E1Bp/jZ/XJZXY0UDx1VukXmYVPtfdueiSFrMn/xN++wWEWCD2vwVCFBlBWhWYerbFyiL8pCPONmNwpAr9RYM/eI7fTJ/bwcft2UaEZnqGMvuB4MiAe/xWHdfJKTUiXHWrXMlwfZkrZ3n2v10GMsrqV/NDwh01dHyD0vAZDFRqAqFBBmDZicqfHM6xNQSf2KAVvfejNkkwmA+c4MePvUZRgQI5qjRyrASjcKvsT9C74PgHt/RrPCyc0a0aGn5j+GISe12CoQgMQFSoI00ZM7vTgubyoRP6/difhLRUVagAB+dY40iCNQCiOZzvVPu3SXsEZGpGLzK/U1bsJWQjBYj77s0s/Md6dEHpeg6EKDaCsNU3uGzJuRIUKzUBM7vTgnvWF1ibVklFUqJ5X5Dds4HgiwBXaGlNrTvTqr7xZay4y//6yDqctWoUGJzhOwLuBiQoVZoGy1vQv0n4mgahQoRmIyZ0e2C3c3OJbi6hQPWgWGnzG8USAK9TYHnNEoOkqOkMjcpH5pZN7/Kg6+Mi2ZsPSG/qRROSFmaC0NWUzE3N0UQvnXw4pDXyIqFChGYjJnR4o8SjZ31JUqBY0TAqCX3ihZrq3uv3oyRXqkor6dP1PXyA0eHp6MrpS39Pnn+OwErnI/NZ/oyUtPOBzdD2krvEzqU4SZoHS1nSAxJ+YlbINfY0MrrbxmYSoUKEZiMmdHrwdktMu8jHNUqGdk8PDg52d7dXVUEpZ3Jy38d5SR2hwH5LZ18fMVefw8HB3Z2d9dXUhWMCLCV6+0MdnM3jh+VvFoZGrbaWRd/JX+npf/WTxEscZLqMfjt6MNBuZH613E7e51el9OIelU5MwE5S3pl3s1xBT51ZtKU+rqFChGYjJnR6cYmSasfU0SoWy243QOo37T9e/TtNOBOY73lLIFn5BsYsXh5xzj9YDvMAgp+IYhwZu+JLlvkH/EK+b7gHeuXTkvNNcZH69cu8m1EwFC7o8gW/0syDXzR5A6HkNhio0gArWNJcaWjltW8Nl4sNFhQrNQEzu1HiEsTHO2HoapUJ/pyx+qkqLYe+bBmd5nwpZZ1t/dhEWD8nON8jksgfkkxNL6x9eVPRi9dsyZX7iatcx0WUj8639P5W2mefapI84TrGPH5okLoSe12CoQgOoYk2zqaHtO/ygDhIfLipUaAZicqcGp9CJCrXx8itujrKEl9LEW5rmMEo7DQ8H+KUg+I2XwEMiApfSkHFAvm1Ns0yK0CB4j1cjekMPrnG/J0xKNRX+ZyPzK51y956CE+P+4jgFEiMWcZgDQs9rMFShAVSxprnU0LUam8MNeESiQoWmICZ3asQqtFy4tWEq9O3tibeY0idg8V5Secpt5Rlb/3S1QVKEtjO+QwTkrf1es/G7oT83OZkZY/q3eIPWDVyB3kVmCn3/q2QB/iu+0ILOkdqjn5lPPYSe12CoQgOoZE27yEmJ0YYFKnKHzxQVKjQFMblT4zeMTYBjRxqnQmOdaU3zPKX3lPF/pvlOHxCs45h4SE442SIhBORtnbZULcP2df95j96b2F806cQ1FvYP4Lws183LyvMpKvvB0nGp3k0ckNeuCf7hh/s4zgGh5zUYqtAAqlnTP/itmDqNMVsKUaFCQxCTOzXihEYcO9I8Fcrf2JrmibZX1UPXfDlStp89oZRRmdmhnr0Wlnpz5e88iJRxD0mZscg9U4ftfaWxzYFxJKWOWiWf5uZTOjK/9cM9pvgRv/MDxyl4IwbjXv4Qel6DoQoNoKI1xXYSMQv5Jm6ViZ2hokKFZiAmd2qICnUENTx2NyfK2Kv3rOfLkVRXEKGfu28Pkd8z0/mJf8Myriitc5tC15nqcYrUv++qTQGX6TUdmO+MiZYV6f9MR+YXXPcgHbBzWCucP+OHWokaAaHnNRiq0AAqWtNBtinHRuUYTB6O/YgKFZqBmNypwbKksNtkmuapUHgRrWme9/SeEc4KQvpBouCVROiyKsP5urq6min8RlroCg51nLaCRaT9PtO70ayJUsv2I4H6t9OxjPo/9UtlS9hcSEfmrcmtCXhzpHTiAsNF/0a3NYSe12CoQgOoak2fs6mhR/hBDXzFR4oKFZqBmNypwT05RIXaGaAcxtqVk8Va9e0pP9EHJHrWkwhdNxaPwZuY7y+a4G4jvk5wn9B0pX73g0OnJFZ9zh34y5CIzLuqUJ4iP1zrwMe1jAF+CD2vwVCFBlDZmuZSQ+t7QDkkLypUaAZicqeGqFA32CgbthcioCFHCFwjDjbUlCRCt80Zk3CH2L0gQ6GJ661cusoPbvnoIV31S7WWJyXp/wfh6KpCzS0JEpizcyH0vAZDFRpAdWuaTQ1drC9ageCPqFChGYjJnRq8b46+DaaRxqlQdnNaG1qhqajVL2llgH5QX3H81lWtL/fNSpH1oesOTejMFQnl28i9u96l1wuASjRWnY/E0BnqqEL7mcZTej7h3Xkg9LwGQxUaQHVrmksN3XSIbLiBAkBRoUIzEJM7NeLdG3HsSONUqEP65dsrvSe375E73GOIe9ZDhFpmFu605RqK60HAdd9eI2fHkqPvBM5HfR7mSKQSQx1VKJ8mO//h3Xkg9LwGQxUawAjWNJcaamwMURZ0mhAVKjQDMblTg1veiAq1g4oXqzOwrCLMQ42T4p71JEKtqahcXeacioov8kdd+dY1Xi2C2wfisC6yRfLJTZ0snOPtdsxbGkLoeQ2GKjSAUaxpLjXUvpOvOyi1FBUqNAMxuVMj9oW692qMaJoK7SNUbt1KnWtm3ILcOg7oA+BypJxQqwiN83qd88Hg1D2/VP/Fi4XwbWLamb0SmYahrfeXjuFE5N8Gny40sETVbqtEQOh5DYYqNICRrGk2NXSpuvlJQ23nRIUKzUBM7tSIVWi5tPamqVAuEs/s4Z4Gfj1r1N5OqiLgxkGEsqh0v3xX9P6NKJLnPsPwbVJf8UN286TVjvseslycpL0aSl6HfMCxBgg9r8FQhQYwkjXNpYbu1pQauqk+TVSo0AzE5E6NWIWW23ejaSoUge/sHu4peJ/L6iU8XGqk2q1Tw6GiBvh8/Zxd2S/4hZAt9+nqBL9SvQdVil4mEt8+KBNH5OIk/Q4C7Cg19qwXFSr4xWjWNJcaWlMni331YaJChWYgJndqxCrUNUOQaJoKRV6kdQtLbubkWq6eB35KldF4TlLrG/3ECGL4JRI24W8NguUSoTsO/Je7SwxcH6Yi8cG77+UC/Y/4PX0rJuyrb3PbQuh5DYYqNIARrWk2NbRl3WXYGQr1iwoVmoGY3KnBEd2SSe1NU6FwN5zgUAsnJFafA+BxXHh76/PqoGjrdr4QOHSAXBzhXGXZeT4Hq1C1g9NIPHViGaxY+FRmHAp0m9K3YuL9q2zl/BB6XoOhCg1gVGuaTQ1dqSV9m5rTiQoVmoGY3KnB8qKkBWyYCn3A17VWv6PdgHnLnkKQ4bX79kg5WSGtggkFF8KyB3yW7/QblkZGGtC2ZdTr3bvgGwds/VfhbPHW+dpSMW4aYOtYA6HnNRiq0ABGtaa51NA9/EAQBEfE5E6NuOlNuWSihqlQ1j1WSYhqG/OWPUVwz/rjL/hHBO34bgSOxRJbX3GhVSl/CZ+Aka53NhK/dFItzZQ329e673lCtuUOQOh5DYYqNICRrWkuNdTay0MQhBxicqcGy4vCMpg0DVOhqHhZw6EWLi2y76Vp4xafoDJCV1CCc4AfGiivQnv0G+VSMEZXodlIfPD+l7a4yAGuP9LltT7jZ0u2yisIPa/BUIUGMLo15YxypmVulisIggYxuVPjL8xWkdrJ0DAVqrrHB8FHHGrhiaBUpDsF96yPOHzFKba0vYxAE/o2Dl1An6NSRVTsfqx4vXOR+JXOCD2f3tNnaLfr53No3UIGQs9rMFShAdRgTeP8frBWPS9IEJqImNypwZUerpsngmapUN6a09rkffRmRlw3FM4hv4cJjvaCIL4QOHSgi+hdqWUHpw/z1qKlyEbiW/t/RmppiO+8hcMU3ErUKnIh9LwGQxUaQA3WdBBnkoNyXgVBaDpicqfGE4yWPdqco1kqNNlByQgSEhdwWAHuMfTuIhJpXOxtb1tfemvNPryn5faEr96pKReJXy/ZlykPPlDXlp6bOFla1odA6HkNhio0gDqs6RNtdTRkJkxz332rCsFMr679spqMmNyp0YfNKhXTbZoKRScUq8Dk0qJdHJeHUxq5NwpEqT3lkzs6OZuhuEEsb1bvBKdiWveOypOLxLcPa+hlCBWqa9TEm6jafbYQel6DoQoNgB+SkWqKsqmhCzXtMDFG7j8vSiOoOvjZ2i/XaVHIIyZ3esTVlaU8VM1SoXEHJQtcWmRNSLTCW09yVTwrP+tscoQ3uaZZJnJPy9gt1q6lsjmzkfhg80ct2Wrw+nRwmKCvNj0Nlbs94g+h5zUYqtAA2Jpq7ugSZFNDN6pW/02G/kUUlVnCkTAKUZPA1W/iEB0JMbnT452yWCGl3FyNUqF9uDm/4lgLyztrS1ErPIs84phVqbWHFofKHeXh36jyHqK6zJzHKtQ9gJaLxC99rss5gw/UbNFJjbYLd5yC0PMaDFVoAPWo0FxqaPVuHeNn0MFasp59nhoOuZJaH0fNdWo0YnKnBwqOS8qnRqlQ3prT6jzk0qLqiU5I2Iy9Az30arJun8Qq1G0DosfI9H/C9ylTj8bbvuOwkEu+QZidyn2Z8uAjNfcellTLBS5XCD2vwVCFBsAJ4drNwNzJpYZe4gf+8cjZ6WuiQkeH+6kEy5WqRwWFmNzpEecJlkpKapQKZQ+bdaWJmWQFh+Vhj+uwsIZPsu3vZsP4VnpRx6m1HnKBC3pApUBHfuctmtIidOXLCH2Z8uBU5+893lC76K6E0PMaDFWYf15w25YrGNSQTQ1drPWxq5H/kKqzfOZ31sDMcM29QT5Lh66qiMmdHvEWntY90rM0SoV+pu9qFZhcWlR97zze02gYgOdeTbaTzJX0LsG8wYfwja1/sYxz38B9QL9QUHqeIKFCW3u/R+rLlAeh/vxpgYNlE4dGIPS8BkMV5p9hQqe9K1sx2dTQzZqfvHp4QWOPxVPRoLVxCUfBeskCUoERkzs9ftLNW7LBXKNUKMSNVWD+oveU6wWfgvd3H85ErDD3cawFHlRrQ32gCsgjl3ekRkPc09C4AZLzSiVWoetjyJlH3D137/EGT4VBPgg9r8FQhbkn4cHcKtO3QkMuNbR6reT4eMAieEuqaepkgGrWlrWrtWBETO70YBecvgm4iUapUISPrFVC7IUo31CT4c6fiYkI5nrB5jLAvONw9dR64330L/i/3RNDOdT9C8eF0P3R/lj9dFg4UB+eK0F6RYF88XIKQs9rMFRhznnpJBtJLP03mvcylxrqXwOfBzym+xI7rhnEzlr+pgN7jZjc6cGhZPecvwiufzarUNaps29reOek+Lu+aGYKdkJU/7owzu9wGMG9mmw553hP8dX7F812KyrHFKKyFQ+2qKTqnH7BfV+o6Opvno/o2TEBr3HWMYvNq5aL68Mg9LwGQxXmk/7T3fWv8y8f4xYlzMLe8fnlzdNTxZTObGrokm8Oxy52Q/bRSzvrXNKCpjWWtf/cIyZ3iiCkGwRlVuGQTJbmRaxCue/Q7MLbS3GovLu+nztVfdSzb+C4PPxXkm2cufRoGG7PzyncIapI/ioXRIuC1ayr2VHSXfpgl24QeG3nW2Rn8fP48pMgojMNr//QJcBXtAKh5zUYqjCfxDsnG8Eby5JNDd0dzblaNz2S3a3/cCzUyS3NywuSG1oBMblTBGvTUnoxruo050pyB6jZX5fxhAF5Ey3mczKU8xqq91rhxNJkF0zu1RSH5B+WP2b/Mo/OcJ77h4eH0YW9U/aJg9jwwPBoPwTBorVUCUsKd419M866gz4t+ZNe42Es0mV6g9DzGgxVmE/GpkJzqaGjNSGtmR56FRc09BUqckMzxvIDjgV3xOROkbhhaIkCTa7eDlrGgA93gHJqIeQ1f/FNKC6uIkrL2XgZn5DqS3z2YaT2qkcZEXfRivyZHzJOzx582YbJJpLHx6HGVcItLnHHjkuLFDKPBm/daIWbSPnSBjvaKiQkueLvoVWJfdd9AKHnNRiqMJ+MTYXmUkNdggOTYoDkd5WdLowBTERrUvlVGk9N7uCvey+bDH9SYsJr0IeoTKWR2oGHMM76rEKrF437Apeqq0ym+8inmF9qcmlR9csOF0a6iSeH5JdVOqeKt6xn7Qv+tKE8SeVQvqM03rU4T5M/VyVUXIZXc8HqCOcpc9RGMnWBdcFnHIZ0cfrc4o8Qel6DoTaTQfVGl6+zsX9M/6kIvLE8/HAzlAvuBUgfWp5PjTSG5LOX0qn1cCpV7xjYWLw0uXcnK9Wv5Urw7lv1XXQmSryzuGvoZnAR7z0f8t7w7CGVsFwbUi9Bk/dg8U//4WvkFVzPX1mckQUclocTS9MbJfX5TK/f9O6P1d/OGXC02hqWGqVgeRyyMKwt4lB/cPpw9zn6t734HTX1S96kmJGpXYgLgJ+QVnLolggAoec1GGoT+Xe8tIZ/lue0tXc5znSQGQCRjhjnLr/jpktu2pYvq9k6uf+ysly/fTxp71+V+9QXNFbxrzmC7/hncnvfVYSvXbHkmdIEd396M21b+K3GGpKp9tDxdPf7xyFuc6a9efzzIb9y5274I+5K5wOZOta8EIz7aZbZFDMNuxszoj1ba6D52xyS1xfSU7p6RCu5RWtCnEYULBWQFurPpXyi79z6oR6wrtLn4aFrpzwIPa/BUBvH86laUVQOKkR2e/GTR1HoydPnjXSYUtvijRFk0niVqVoLL2cqFlO78htEc+3S51IhWaSGrjV8KVYe70zuL1ZaFbMaucXOZuWQ/uTggHOwixcMXGbUZ5altBuPVegcmBzuhk7sagJc/I7qjl9OLM3s5v/KLbGIXV0oC4pSmxvBlfehREt1kYu7xCoKkik5LdQjF0aURRDR3j4+3MDwlp0L4SD0vAZDbRi9L7iw5uYbdng9uO3cVGwOeUy2IA1p+VEzjZX28rzpo8E3nG+XrUNKwSUJpoCjFuTCzZ/WHzOemdzHXbqOwebPig/MyzeWbJ+8T1PigHPRLsZpLaZhFW8kOCw0Bzs5DJK+ha86/zZ/2YyGLAE7J7PB/muOnYe09Dm2CMmnTz/gyvtcK+MDvB5RVNGDRDN/AvIhN9n23O0j9wwYCD2vwVCbBa90W/tVl+8vX+H9b51UjGPNA/FjD9Z8OBcDpM344pmti7/4XsH72n2hT8cwc+2v7krkkaaM9hjSVMfBYAxLpMcqqssrk9tXuX+hGTsYxZE5uERPisVk6x0vYcFckNRYUoVyddI85Kc8xTH5DX3cm2Vq9VRgJIDm96q/jJNwPxiilJzkqTvTHNHP+Qn7vNIKlgvXCUh4L1Mh/+2wEiVaDHQ53qBYPi1jdyD0vAZDbRKPuNGWvmSfo4fri4uLb53O8eHhwc6OPdze/4lKtRXnnb7mj2xqaKntmcvzen15cXHe6XwNn+HdHYMfG+Eev1yh/euri4sfnU4nHPn7nQo5R89Yzy98Hkt3pN45NO6qu4cDU+9MNCK4O15u1e+o26uSHO6Tye1i1/DNkZcSvyHv8j3O/QJyObV3pIbHcCKwkva2YUax7j45M/Q+v2sFi5uHhnVJj76rRkO60sc51CjJl6ONdvi3T8z3I6Smbrv5L0rDbpxqLu1/kbRe2T4rvECI6rfKPBC8Z0FJHFKThzyevY+esIV3e8clYxYQel6DoTaIn1j9n+YvZjrRsbDC+hp5LAeNdYfmUkPH2yWe91Yj9FsddxG29ssVmt5rqnwrukukAx2XLmZ3hv0QuVbRJuAMtW655wXdb8q9U3u4VJVKLH4q6UX0yOQ+0NKjpQ28luR1X31WsO23MUTOeM3bHEGCz03HiL7FzHD6zrg8DgP7arGL6Vs7O/efjJP24MlJvH1Rn15OIU5ChSpeCyWJBgg9r8FQmwN3OtQE6HivL6IgcyiiB5u27X0+1LjIpoYmGmSMAQ58Efr8cZgRz7JC0+Wfpb3n5yT4lsca8XtB2+hdVx2By2Fo3ucL/VMo+HRBSQ0gR61cOq1HKhRbYK3WVFX0i9I6NJXNHgHzUO82R7w9/exvneQAV2JNK/kCpnQ8G5IM6JEo5QqdnAqtBISe12CoJvZ2dOwfHnYubsbnlhkfA7Qt/qSbaftPNxcIUYU4OazY8lZvuznjZFND341T/XXvf3NZWYhWLHHTOc+yQrv3fz8PU8zLztOYOj+Me7FzTmuKDcfxsTPU6408/67RIIOt2jNnnj5jDdbulLjrvVGhf2j09alGtXt3EKz4vKPWDzXEkOq1NXlUt/RRWhfNEsg+CKZ1leEMXR1L6gems3ICUVToqGCoBro4YXo2TmatQryPsJFFo8R5wG6TFizvcmNr5bOpoePe+Owf/o5hn1+YER8ztB7Yb+zgZU8ygM+xqLqzBtRmKUGw5jjDHKh3e7PXnQZOp21/HItUfj2Dxl1z91L7okK51VaNrssbusOXq9etjJ24Yaj75knFUF5SqyafsudgMa2tUp8IY3SG9inHrpwrVFToyGCoBh6PC87w7uxs3hYywLexOcpe6C3ODivI0IWZOhE1kksNHXexFv89vfaBL7v2ZkZ1wNsHllRtWDlNQISGMhQ6ws0MI9u17W1UBO6+4KBGqZXhJ2blI1ffjCcq9JVyGfP7M47CDfmpdvwtUYobhtYoYu7oE+egTZMD7AWYkIbSgMz/9hjijwg6lawe/YNqq5JMqNk4hJ7XYKhm7tKtZLMsVGx1PBVwk9kNEKlKd4fVA01DXnQpmgbZ1NDFMWcncHKo1pnBk0yd8bba4GhgOZ2OcN+EHI5wZ2046Yg+Lr2v8+9PcveN10Y9oex639EAeKJCqWfjUs1xVTTY9reJbBzdq3GItEycniybKNxxfopNqdBGq/69+h7o7l2dxVxDIxB6XoOhWvijrkzE95/Xit8Xx4l9vj77u/DN8JdusgKnEmoZ3Gd9TNwNsUJ5sqmhm+O9IViFaudPuBv9bJnCBryUY+4f3bQT64CDu9nN84rqvHc49Ayc760xL4sGp3SJHGsU/VCh2FC99p4W9AB6vHmuGl9IfSqUFpe+t6iqC7TeHMM2wu5gCqjd1UCh0pbXee6lgdDzGgzVQhyiXsQLii5v5OLR/uEFdMnLWZBDzoXyJRxWWJvVmWk0U2RTQ6tv7eYCsuNTdyPTw03pZUCeE5pKpYViV7v1yclq6BMnE88NqHwsDuZCxAnIg2u67dxqFL1QoXe01q69bQAH+le87RqCpkr1qVDKQmiKCOUNLieSH2SiR9nYqzXn2SDqpN+0aWaB0PMaDNUGXZtce+ouGrvMzI4RJF/aBTEoJPmUcljRGmqh1hZ0M0QuNXSsNwT+mHbtwzFvLwPyvHFdqdg6kkInKPMGtBvDokuJCYfkx7xbQSXgMJmIPECUZdnFaPigQrG/WKvmeHwEdkDUdRX3ArZVdalQih00RYTGm0pNtxoXi6h6m4Lhzp2JXThKAKHnNRiqDbo4+ee2x12N9NXKvoGVTtHO8f/R20o5rJBP4pZMN4dkU0OXxlgkO8BiXNuzHuEiT/cwgRumTFoo7saJ+nZvEWDGoRWE5D084Zw8NplnEvmQuw5/zQcVipNTZAsrAeeEr9WaXG5blwpVp7KOtv+zAeb8affnh7ths8ZijD/0CPvrxa8IhJ7XYKgWsKeVxsP1TNctCGahQukVRURF8yU6NZUrBvlKv9TYmHw2NdRlNq7ILf6ELvOMw0V+BuS5t3WJBXyfkkgWJ2sZEcp2cSjDf+BfSB7F/hPbyQcyVL+fVwoPVOiAIporY1k7oIusr/sIsQqtzVZ/DRbS23nOMxwpnPoaAzNufc83dxkbQ3hgukDoeQ2GaoFvPM3OuwgxzoQzFFs+FKbNo+6qXB1zn8z6WlOdoXHJEFNf7n8WpC1qe9ZzIZ2fNdtQbGW87OOqIbHzStrX5anmkuMvOPYFJIksTU6+U9Jvq7j9igcqFK7QMT2kmBU8dYbWrkLfvjSoVzSS8j1YYvygxU5dpYe/SISue9zqtiIQel6DoVpgP5emEJaLE1o49pgXcoUWVvNycVLJjBOE+ycsF/yhl2iaEOEwG1cEc5xWIp3QzzydAFGcVMLLDjm4NOl4NzqauazEkGWwiUNfQMHcBIMTPdeynOmrULhC9Vtxjw7Wgp46Q1mFzlKHQW/ApR13Mz4nrkg3LpbzF+l55a2456pHEwGh5zUYqgXeeVfTyjUO1vvvxoYEKPSS4Tkrub3N2wvFgj3bvXyCIAIaM7b0GrRz1Wo5VB60/XRJI6WqhNWE/368PQc0INXGxbWP6ilNoGSawO1cfwm4BfzNwo4h01ehcIWOrYAI+0n5uRZkFTpf7XgmA3Zo8aT48wabNX8cOSp/g57ori1/ZwoIPa/BUC1w2F3n58OPPK1JToDNZxcKbzNM/OXSQkMQkvZs+/IJgqktZkz9u3jho/NycXh4ouLDGU5adfdAIZU5mLznARUmDq5EBAFKZrCMGXb2TXZxjJNWlCI7fRUKlTi2np64J/x0huLLazN6BCtXEKG+pN88cu/S7yOtgf8d0KJ74dtcJtRB6HkNhmqBH1td9gs3X/O+xZZzNBSJL6UnVRTNlHKGYievsnjaECqbGjoeQc75ITqB8RM/m7jv0AncISW87Kf0G1NoHYKIwBoOLdzQO8tuejdexlkCbuaJlhkF/Yinr0JxyRwubkUQGGp5WW0Mt9cyDgUnfh4e7rEQmGqr0DS/IEAWPledFAeX3OnnYP5SQhUQel6DoZrhpvXaLuG8u+f4ilHqYQDnfXEeOQLL5VOmqMtiKa8w/UZpJpjsVoZcauhYYl5YTmjvRtbBfpaswkNUwssOs/8bh5MED3Zxdm+f/AjBKo59YMx5j0YO1J8tcoZOXYXiERrjWg1Rby+z5DETzFtXyDEDr2NIyyuPU+8L7I+DqdKChNBg3d/dvkYEQs9rMFQzXIGkfWwRZCzYmX36/KVhFvuh0BCgbFpoCLYLLNMkiH6jNJ6q0Fxq6Oo4gl4Q+9p4PwJGgZ+LWmS2uHvZcS8uTCNOhGRwB7cHdwH3KDV83HmPJuDtLnCGTluFDuA/GuPWEnDi7+LQJ3o0NJ8cerNAbNq3fMunffioxtauWJFBXUjWz+a3uw2EntdgqGa4OEnn7uREPG+FEYMmoJ9xaAbdcEunhcZTUJn+3fQbpfH2ZGdTQ8ewow673nR9Gbm9wRKOPQMa2d1Bh5Z4U9kgFyH5FRxaQHNRj1LD4QqdQg9TRAPsf7ikCn2++XPx+zoRcHz5M9rqDityl2m7f3/550H7vt7N9fW18VaGLfQxJM99B73KY/aeezppCwc+nrbez91W5STkp3C+OJ7rSjUIPa/BUM1wTaEuLghr4/0enhyQL45tIqibethenYTlAMvFErMx/UJp/JX82dTQH3i9PjgNURc/+YefuRUn9Sdc1Y2yqrSX3SpJIaacmp/2a57we1D7xXEqLk+qHg7ppq/EyB50pAe7xDN69d4EWMPafYAlVGj/4iP79xe3T0mJ/l0JWiPV/WBFXuyo/E2iejnvJ7p7T0EwU+It20IPQ/LoZNCS4qQyvF7+1/lxdVvR3zh+nr9XXgR/+T2/blAFhJ7XYKhG2KBoW7FwOYjvzzSW/w7DpP2Vhw6ru+P34Tywvvet+AFExLVESJ5+oTT+qtBsauhC7f2cWfPoriQXLhW7YPtnH1bD6XVHE4e5RglYRK2RfYwu9rL3fxxstIPFraNbvJCFvTaFoe7B+ftQsC5sXOS/zdXRdnj7LlZwSmPxWVx0xGf9EMdl6F9/2YoWiAvv3h+dQ0eft1cPRrttkMNWpN77p7sr4bnZys9fg58fIqu3XDpq24OxtN44ziq0+xU9Epidm7eBaok7igrlFXnRquERdZohmdtnwOEx8ylGuwAPQ/JInCoqIROEOQFCz2swVCM8F2o9C9wscAvHvoLlf7GTDEFd/rJ33KUqfMkkFmKwz02JkPxhNcbWEH50sqmh7+penth61iMbrbCRyOCMHUzBVs4ZyWmOEbUmFqImBF72/nAMrRP9HYOAfGFQ/BI+0/D+zpztJyTRFu/VkAcdy5YKHQUcDylvA7qd+BxEtD6Ej9iL0i8jqdAXuHHtqQ+Di/iP72e+4wOvpcrnQhzQL1rbQ7iq0PPMsxSxR7fnKAUiHDEo6ObJrSEVKcU6GBpFYyQTtrDln/MMV8j3QgZBqAkIPa/BUI2c01OrdXV0uT5twi1RSgOLWlzJ/5veSA6rLotsRavIBcl63fPshPGSTQ2tkGBrBVdS+7GYYIryAAbJy5oVGoOUMCpceZQAipC00c/Un3mnnazxC0U+RqhbRdppxV2dK7VRusavFp4C3h2/bDZu/wuXNg7ZJ2mobYDgDMLiduWdugnSyxbsyRLisCl8hv/oF63LXTcV+sSZUEufLv5e//rGh4pR1qEYYmAXiCkRGiwm3pw4c+bdIZBW7F9r+AHcy552uxOEuoHQ8xoM1Qh3MtBN7RwebdvdDlOHi6iK00KTWxf+TRni0BQXpd5Bkzd7mZ1NDa03nd3Ws55lW8Fl7iFaCHKf1O3w2mpEn1waJFoqL3sve5K0qziItILAclKEpjXjzdCXViE/j2uJi7NS+XSVy0y9Re5LsHTQ+e/0IOmCHrGLzjZ9iLURUUqEBq1kBP1yePnLN2/h+9MmcpxUKKvAtV+s9H7Fa4rRXIy4Yewu9kf155fiOyhxFyCuFGEW2494h/ON93pdjbJnAosrT3cXFYTagdDzGgzVCIf7dAEcnkjqdnjVDTycDs1k4HGIVPXP4WwEir4mTsfEG8R4RS41tNaNf2w96984i86qHQcpp5K2dzdXfde6BxOmv+geeoFOGtLWnCSUpRa41hG2ZxLO0IdEUmEVNQ0ZVNxWgi1EKccxikSCzb9QWdx/OmKk7sPsm7WeN15bg4Qz9Dbx2FdIJ4ENsHlRXVQoi9DPCZUFH2/ISJv24/63pmwOokXB+v3bgP0MQ8cyvxJhyZvFWXTOrGXXe1nKWhe4GeoMcgiCz0DoeQ2GaoJ71i/gOAkSvWsWGmOALWdhjhtKsSKHlcpsan/+ef0znrGKipvgZKuQhDdPZFNDNwvPegngyNGGbPlWtW9pHk1D7dO7m9gjmo9ucjix1u73eFh+vb11lVLZ/P7n91msvDSprKzTrLFDNdTD68cLzPrD3jgvvEQMqRThhlQuTvdkWV/G4QqHY+t8eHM8DgP0I7XpR0pi2/awKkF3cvvAhmGY/fqcCIBok48LwArG9qsOKrSLTQNS+aXcgGrEXpdYnFiX1NFjRknGR/TuWO39UReuffgx+r/l+cDd51wENCEV2qfLK7VJQmOA0PMaDNUE96zXLJ3/YuarOeg6Bg5onMXbuyC1M7TQKr/xM5L41IshBQn9HBwdJV42B2RTQ+vsD23rWc9lMlbNFcm25cg12GeVlp+OOZy4XKd+RklHl5zFa1SY/cpJBJoIIRci41DLcxSlVVKFTzonGMDlu6g805Ui3Mga0C0/03B6QYndpSFCF1Ih72FuwUjtk1DabRMa0UKppSQUarDi2HufLsiSShAoin3oYHtpyVEqVqG0Tsmd0TgWPorBZVexrcApih2t0DdgjzwSsp6Uht16pqtlkYBY5DmvfyakQrFEmXwnWUGYEhB6XoOhmuC5MJ+51mWvQRVjPVkQJC7uG4JSrF9qmhyWI3HSWoH150Kuue6B6wBEf0x95Vq2nvXxYsHmh4pk2wJ5P9nXmK+qYTlb67a0lNW3/taLfIzbLFJYtGg6UGAet+32PYg+i0bJG+JwSJ4i9Z2+Kkap9EW440BhHQcrOfdWTewJTYsBLt7WnYwSIH3Skhbaj+wBPdyvcMCyDVOKuvVjoMIn2uTjAljkWdy5hSqU3djbmVUQX5HSYegknJ1k66/4J7yZ+NpgLFTfNlAifSfykj5dXNjODy8pXJudTUaFwhVapamYIMwmEHpeg6Ga4HBbzqo+beEn2T4n/sHapVguI/jevVuIxUoEy8uCmlmO5Hq5ffIE6cWhQ6K++JetZ33sDrT9uSjZF26dPmcO5HJMIQ1r3YYc/tUjdYslHhlophYOE0BW2vyY9+GkuovPwnJxmY5UnKIVrZoGnw4PKy2LOAW3sB00q1DnvkZc/5Mp44szKkYSCfwplkYJt4vDv4EVE1Yu6hZSXtKXw8PDSmIPstbiaixUoYiCL2b/Pt/guMbV4DQqa6rw62GcDoz7ik6Q0pbZfmBa2GS6eh0no0JVs9VgqeYdHgTBYyD0vAZDNWDsWR83s/NfhMYtlIq77JF8Wn8N/58QobHbrMCnxJHcOkPQM8ldugdPfSqU8/i08yBPfNY/d78ViyUOcOYWDSgDqdDq3Qwctb+iQSYfGa7lwuEQ3o7UWh30+mmJnU0s0NW0THGKgo5VBbBrsrBdEaKczpf5FZmJudAEm5SRxs1LQVt9+/P+Gt9BuC5Uda5SmluVd2FR4IJabp4iFXoPkZ4bB6vQkQq8ec3gKt9wPlvRPauWZ+tOizMeq2tq9QO1Qi5NKUGJi11nurcgeA6EntdgqAYMPevj2o7Wqf8iNF5nF0bY0NHp3S4cIgx/QEHXGm7TIgGfYTlvRH0q1NazPp5f7VmQg3g9xdHwnM5DouMoTRlzwL/1OVQYKV8SYg35tAC+mQpWPvG34fVidN8O1O5BIyYU8ACsHY8iXHzQSVDAs5xTMyjJKUq/tsMLFXsoOD5t3MQtchdTe4fRtDvfopYSxSIViq2f8nuw8VM1Uis4DpW7qlDeyvU+vCOi5cOyW6dNvimqZDWMC7QuK+76IAjzA4Se12CoBti/lBBWr78+IowYitORJoxJwe6RQovIuiQkJThZhRbkhQ7wtlqdaLNJKjW0PhWKVGR9akXZ/ET2Nub63pAaqrfVwbAf5mrKkQsVmk+FfKAfuGtJVOVE71dnYtR0bec1FQuO4uI/xQNkTT5bmF53qIeygaSaNg4LQd5jZBvU6kPburUEFPS1tfQsMLlsrfJpFHyDj1Rbw7Vk5vFlQObV5dsg+lfLsccRf4vidrMT4wfdeDsz4DcRhNqA0PMaDNUAdynaUOGPvZ31RFe/YPnM2ZRNFZ4mC0NtmEFC0jlubFKLLDDeVp/qmllSqaG1nQ8WRvrlBDeVcXZFI3ia3QEGf6VWLw73gM9N45jj8/5bXvlYN4NMgtqV/fBXo+n2w6iTLYv0vE8uQ0kVCrWc92fzIm60zcch953XELhrThCvLfy2RbDD0rw+t5vcAWSxpkMW3JhFDePs8PoQh8UgMfQrFby5PhV8+47okK+PW+xT4JZQIAjzAoSe12CoBjJ1JklWZkSDDqfJQh9C3E18OZ1u5LorMr1NVGhIMjW0to1KrD3rYy+PswrlxNBMoQbdLmu1ukz+qs+MyKRZIkcy74FzTiNh8Avrb6/RSnF9JKmioM8rvpu56tqtKw+v6H7ieAivMUbzRsLT6nzP4Z56//YUxWs3R7ZpfKXz34+xm1yOPmniLgjV23pAvD1fX3z7fnFtvnm53BSHxeCC7d1EZ9Y5ms2376iu5Tro3/78wvnXTqVVgjA/QOh5DYaqJy5bzdL++Gd2AhuukaxBrJwyXlPIlcItS5DY5ugUCmeEaszERvXD1NBcrW9l4AwyyB328ji7X3hH7Uy1AmX21eoKHTbZyfTwNzf24aWT8zi4E0Q/cvosFG8TVgh9XLEKZcHhJGzY1afpxcqfY+9Z/3p//WhxZ7HT2XkpgsTQZRVvzueqloa/hTkUbTe5CDataMwrVixmJfh8yo1LFj6Z8mKhQu0beCZBYuhilIbFDRmK4UpN5+swRuIbNGidiAgVGgaEntdgqHoSiZIpFkfqKz1pWIUW7WMYNyzMxkcR5St0BJRVofT20hQKE7yvJPjlmkBrvpDRao6T2HrWD708ziqUO3Knf+FFrUXqdYVy889cUgc/YPlSX1ah7vsIQYFEIrRVx0IF2d+2hqWKUiqUm7pqKmzYC2i2Lc//vaeF4vqJSWQ5Z7PGQBYr7V5Dp18egPkutJpctkGa88MrFpOXtddJtqZYMFRZlbVRqZRm94r08tdhfMQ36JpbZZUgzBEQel6DoerhnvWfriN+nX1habE/K9H4iOwudCa45Uw7Y6zYR2oOsgFYeOfKCHp7aWZChcabsde3qYG1Z30FFcqtgdIb/5OHNH+O0QqpmqaGGwvNv4fAR6pRetzX0b0UhaufQ+zdleAvLGpc5qpX4knexeeNEvK2RmrijjGq3peowQDTNhSKl++WFu9IVPSAY9FS0A24OK/AanJptwFt0gmvWAxS6hZe1KUt3Gz6jOLyKjQ+QQslalG9VKGSEyo0Dwg9r8FQ9fDEHjtk+mdQZNl9PXyGEwaLZkkO6WZnMN5Lp3CWhYV31nN4e1lmQYXGXvSN+tYr1p71w6zewgaXMfiNdCWLelHjCkULoEoTGRe8t7O/jVIdzVxdviCau9oWJkUidbGoE9U4VGgf5kPXRgK+XFN90DkreaDXmTwY96UIu2ALlSsSOApyHdhjaZZfVpOL/EVdwBwugXxTL8V/SqIvd6I77EEFDVra2A/uec02CSbiE1S4Ck/Az6pXKjRY6MzQtCUIdQCh5zUYqhZdz3r20RS2EfQHLn0virdx/X92NoXDqth9gHnbME/kobeXZgZUKO03HVJHgiJj7VlfxReq66pDThzNKSYvXmF8WgtnoObmZDxgmj/Hc797i212PxVWJtH9XFhrh7G5q1CHeC0vTjThYjY2+oTKPi0lV87uB70buhRaX195FRrn4RS18CGfYGENlnpXVRVqS6eEStcvMcgR/h6Guqei6NqMXn5KcOgAn6DMrvZ2+DqU+qUx8fr77DMH8XYlMVRoFhB6XoOhatH1rOfyAuvmJH7h6FZiL0Yu7RCGu3hZDxnrHO2it5fGfxWqSj0UhWMtAaK5phphlBCXECDsPUxGGtV0/k4jSGgeq+bb4aBmdh3ED5jGi1i6OilO5CwU/pSkWlhrp95VUJIdEatQHNvgsIRmiPwx2rBvj26or3RdBip4v6hzS3PeqXufSs7zWCnycpObsrD4Xr3L1m/KZnJ5oaW56tw+XpuKQL93FN+2VPmvuxHQsKjE084nqFQuSvnVwHgZXMIkvasUzBCEWQVCz2swVC3sj0lNvdxqZRvH/sOmvUCFsibJ1oNwFLFYD9D73HsVqmzb8hTaUYyjJPjlOuB84tHbLyax9qwfKhx3Lz17nhJdcag2STPhwtNYbWcdxFlzwg+ZyLplC9+NJVQoSqAKhTL5qQszJ9W76q2RH0Ao63ZCx1pxQeeRHKg4stoXX/GqrpIu9bKCeEf1TVFPIfRPLdy4iN5mOW02k8tZJZriK7a7utU/NaR4Pzx1fXWNdV+JnxL73lIpHE9QCl4NOLe7HTsDGKVZyiUThJGB0PMaDFUL96xPORb6HKavoaB0MvDMVBDcNDWF5lm2OO0Nbyyct+cdnjCDeLvuOuCIs0lg8Pxawl2JvIFE2FBpIZ37D30li/osaOEG8LnwJLy7uhHzXVdUQ5QAmSNFzkskqRZsBBZ3abNviBrCXVwdmv/wl9KlhUKA6R6eATnwEnVB6lrrsiM496GECoWj2tB5IQY3deG+rvS2aiqUG/fnt9Ialvtp6rrulLcy9bAp5ajpfB9/jEMSL+N4glJUWA2MnV/k1K0WzhCE2QRCz2swVC3csz4dJOOuM9l6X2/hdXmBRUTIJjd9IBO2OM5ez+Yvs0+Xk7DaJYpqi7H3rB+m/5aYZRDEH0ZZyYekiz3SGsWtM3sWVuU5ZzxUsO7G5PKOEiFNtI/P7gWVBQKhSIY4Vzmz4HBIROFLpPEovyDuq/Nkk7xO+sDpb2ruBB5MCfGOiE9RNjf5atuFxXbqbRVVKJ9zTQiB7kytQO1RklRqka2yiHR7oXJ6krsKxce7p7tH8HUoWuswD2pzvvK4944KgSX3SRkLwpiB0PMaDFUHe0MyQTLuR+6c/jht2ANjtz4ceM+VWJvrmDM4z9vzzYATNGveRBq+aqMQ5Pm1RBYAVNFwZlch8tpzTTjYnFUwlrTQ+GYqoUJZptej/UurUIdElAO8VeNRtlRj3SqBupJ09VGVk0bicPlTidPG9ZYlYtQW+vg0c/6oxeTy0kPTmZjPsubuJl9leu1LYSxNUyc4zIt9ujFw2Jdyn8Z/xrXFQ5zWUZIyY+Kvok0oFoT5BELPazBUHWzRM8t6np5KWoDp4Rbc5H5MWfPMtbvFK2if9guZIjyrFxdylMPes36oQs1eqBys21geqlb7+g43o4B1TM5HbkkLjZ8y5z0T3+45VaYeXw+XRhfqOdZHDuedC7Q1gg9XV2NUXqn1REpy0iOt8Zvys+6uQv/CCVvT7grF4t1icjkZWDN6rvfLJ1piLZNee5De12jA0vnGrCfLtGsYpse49omfjArtkqch3SBYEOYZCD2vwVB1cI1J1tijxKBipcbk4YnB3j8dNUy5tFCbwyoNB15L+GHmELXfdMSqeROcKhT0rC+lhhjePYl1p5px3XWfK5CHZdJC3wb4uoVpmcwL58/UtE8AK/TC+hKWKQ7n3dxQl6+EJuxLPvD0p5No0Zw4Xks6X8RHtmblqm+MFBsbi8llh3DesvL29BofJt1FmbNPel9TycSta12/7R9+nMvsBBBn+epyArRMRoVyPMV9QzJBmHEg9LwGQ9XBnousk2DmEkORUmWf0CEJcrUdNodVGp5D6nGqzCgv3HW15R7zc6KgZ30lFcr6EF6ebnSjLNUrnkN4HZO7LyxpoXFlsq5QRccwD6K4t5IT7NIujKmyD1pXcpQBSS+apAqO1ec93Y/0S+k9SUmUaa50sSsyTQ/tC0JKVd8YYZVnXopaTC7vnJRPNcDdoGmWC/2W2bOVXMu6Owu3vMPViniM7lFcHF2xkwmkhjv/yoRUKJyhZb6JIMw0EHpeg6FqiHvWZ9NoeNqpZ7abAFiY2zuOw27mpLXNYZWGay8avVsxTpdDS5uSFPSsHyaQlGksjzsDY1VbvRbs0FgBTqTOxqHtXnY0qHDd5Ca6+RYha42nqAzc47RQlPNtX7wo5V4B+RVd3Do+76Kj85CxNbTiqEGFRtX3yyRNSlXfGGE5VUmFchw7p/w5jq5JvqV0j+zr5HXWqVCkPrgJMSXSt9Fgq6jsLQFnxzq7pCekQvmudk1XFYRZB0LPazBUDTxJ5uYM1OIW776iGBgMRS5FfKCpdzTnkb/kTKL5vdydBIdaePrKiRBE7BzyqCDAnKNQ8wjvxV9/owC02zYvfTioW2JzQo7QUcnHQxR8LGzmXh5oi1wnI/jODV52Vt1u86zqA3EFp1XGL1YNREKK+y9xH/TiZQf7CfPqkcMueX8xrmomJ5GEvc7rrX7g7NiMsgla//DXi7r9O8FpOWZ7YTG57M/OiqQ4wJAvToLdyua8kwdBdyOopZar5o7CXgtPnJTq3puPn0Xn+sTuRTXKLriwVHXOcxFmg/vKK+9/894/FkLPazBUDRxgzsVuuHa+sBj3+Wx/K3Ixrm530h6V128bC0F7cxizHVx8WA+Cxc0viZvp+mP4poXNz3l12f+xtRi03iVmrOuD8L2Luyf6Old2RtmclKYCY545HUpWENxrcriHOheGLJvXBBXB2TXn27H/pUyxM5p4kfRUmSa36p9J/ut0Ph8e7u/sbK1W2y8MnW5yxVrQjIZaCZYzTn/zX+TOO+IUTZMf7qrTOTk8PNjZ2V4tzumG8CmWc1w3U5yIwg6vnHrkZArNI0oryKXMgpfCMToVCnewWyKDSnr8xqtUk3C86HSOcQMUJxQWp+VUUKEs9DVZupS838qs4PEs6Fx+PECXxBOVIRCeFqyj3FvQc1wi/zRNmR6SQmqvQBSmR/dsw8VLpOWltXxca0NB74DQ8xoMVQP3rM/bHq6DsAYve2e8EUjEYsJTMugg1t/6iVeueFvQYIUn3evYPbKYvcF+cj9K/szhe5e1Zo/jfTYfEbxiuagTJkgXBye+Vf3VLTNDL66QqabXLPTwwRbvCte+lJj64LNRiYoq11ATyY3LV5x2Ss/DcehcWRXGa2jdwGs9lxpA1aH1XY8Dtzp1FoFa/YjC68OavngjcH4aiyd2LrHJju8J0lHzmPXooco+U/S06vztMAVODnGV9Lg7YGFmiuLHxskl2YbzE8wubIvJ5Yh8xuINRXquOKlPd2d2JYM4lk6Fcn61Q1BarcwjJwT88u6Zs5y0VUtuSK3gGTDWOAozRv/n+2gtWTX2pra5ePetdqeJP0DoeQ2GqoGNb36lwEtzW/LVb9YETDybvgzrKJbVgrw/XOqHMpS8HsP+IOGMkprfemyqQ8lIpp5NXkRb54NgBWNbyyNdKtcrEgEs08SegGP69XbJnCng3XPRLmXhlYQlKsgiy7VTdgRcI6G87EU3rKaVYO8d3lMu43QIJ7BkhV8Xr5vkANSvQ2VyP3JHRlsEQHyYWqu/50xvB3nA+TiF7XliF7ThjyZgX2jGUTmIF5H5OALCGFkbRAWSOvuD1aSLQ1wlPS6Fb4QwMxUgDm8AhzA20nIs2xs4qNC0CYlacG1A62evG26u7FVCZEd3EtgbWPyIqm4XakcmnCDt7qpa4B/3sHIAE8vs7D8tWPnDjo8SEbAkECPt02LzNaNA6HkNhpqHXTgarwKnrJnrxl9Ijywc/bn/d06xvQWkXT3EOU4hkTf1NekzpXDiYKg0I5JZPN1hUSvVMmTeu6y7m/A7lmygHkLJuTkfv+qwOTl7LNyzp56q4Z+DAcQ+mzHs1Qx/lS0XmdN/S+ybw4uPWzixtOuUwRVujhL98BNww7NsCJQrTkyXE60oHGLL6mGLVnlcUGh0+l/D61gsD7hEvtD7x11yHSQ6Z7dkck0jYQDJnYsjkJzJ1eTQElcXdeAtPIud8dRVIFq18sNvSgwd/IFyc+iAC3thUTkWFcpr75S16YZfdgV9uHIngqptcu3l6J5r4ygNdHJh4tBDdE1aSv9zl7T4pD7bbRCfUA89jtDn2RQGYSZ54mLY9fOKKvLvHu7VtdrDd54Aoec1GGoeduFotkThoI4x7PRAK/dP9Kij7TSZ1pvItu2ef6HpMHytG/lcd87+nKMZSWgd+5FzZPX46oLvsaHJeIg+693ZKf2B/dDgRXPJxunlxRHuJl2CCDqgWNby7KbhHAGGd+WMP9V8s0MNO2ynzdAvlKZqCsy4idumL7pV1JQCWm648MlfCK6MKpMSAeX68+1fdPtsGG4QXFqNl/t2lbCU5sDTl1NpuCmN34j1VGGwSMUCKCaLvzX0c2W/EOIGxS1F4VgulqscZncI18YJ5alRRbrgIxIJszk+8Bdn/XYIbujWDOwzL251oAQcnQiYnmHyQ/a0wcNaXIDlkJZjUaGcTpm0IYNwkd76h1OXWweRHcxFaii6pDHdIciFbhUkhpINxynGYo3X6IPNVWtAn7+Hh91C+P7IGnphVPq33/e2VheD9urqxn6nzBYHVemfYnX4YZR6zKcTLM0PKrpTPQdCz2sw1DzswtGs/3mpa9JDZMAW4huR7J7K3LgJrXQr+jUKtR2qsNg7le00oOX+kspIbX1VczKm/zjTT33yt3COoNqN0PqG9hZ/6JJGpTO9HF40t7A0uX44zM4Lpe66MawPH2+J3s70C6XxVIX2Yy91cZ1KeXAnxB6cy5Wc54rXTWUaP8LF+nUQCRFy/GiA0tL8mFcvZjcp+ydz78A3ir1mZ+tpvck7qxfNl0p8Y4sAPLTxM3C5nkmSheey8BYy7mebgx3gLvc9PJ4pR+VteH42ehh49gxDiWclD6SErlbIOZ9VCcsNUv5Iu4lvnLOtzM2Fy1ycS8lpFpZsXosKZWuT+EO9yCX+H9/bWeODJv05dUyPot51yyF5w1P6aWcnuuPIhvMnQIXzSiqKG9hkPt7uY50mh/jKLFWFYh6P4+RuRQlnTFU4LLo5anOLPpK5F2ppLjIpXv/9Oj3/eWN2iwEIPa/BUPNwn2RdLBpLY0PrYzJgia7lNPWpVKnwei8oE0vRucMoPrSP8A58Wa+dIFjGdITpJp6IQ9HQUml/NNnsRDGsNb4J4TnV3ZNIHjE38cPv5tK5WGVAnfa2jNmlHG40K90c+I2yeKpCMZWPycDDN8dJ6OGSYzl7ofkKlMlGww12oFYhRslFYTxdhRqHBcx5w7wCyt028FuyOr0MgowMRcqSIfv6utNRUkc9NS2kgWScUM+LQSv9/KIcq9BuZ+57C5yVbdFdMZwRnmgteh8ai+Un/CRXG0hZCbkYBpSv9ltgajJl31x1OsqAKKG0iK+Hz2vDEN23g3b6cpEIzAW+83BnA0tajkWFxnWf7/kbP0VfJ1TUcJxnjQtO/mEnAy1gDEoctk7vD4+C75u9tytlw1VSaATi2FCu0V22Ygtpo6TAuGCfJhBLJapZnq4vTn/8vpMYvpnnfXZMMXppUCdI7Wt9yVqHCvzFZ82Kh7z/c4dX9O29AqcPhJ7XYKg5ON1Lq9yw1g1a2vR3CsAnsvMorE2p/ccLZElp2X8amtF9vosw84WCIBYYCEQNdddZCx5W9fqn361gLZ66EWrS5XfAiJuztXBNc3MXm19SxSqFlUqqcqCOoswakH6jNH6qUD5T7F+qGSQPQ+0pv3d2GuXsiRLdtTnjbTXyD20Zf488dbqJi71X5hRp7oyTq9zHVA13069oIGmfFhyBhjvqIHz8Xt4GpEN4vueYNzkmo2BuRopQMqqldgbggXEQ9FxaWOwnHOY9LsVy7nohFJmhRSCHcbZZK9x279AcMoZ0VEt7vdDaw5R9E56SpcFbn5ZMbL95/UKnsRctwNOimjLhHc4GfLqsZ3XYVChOOxvF/llkl6IJHYuw7MdyQZ4ew/QEO7miPUNqWbVAUm0hLgt9hchQKSsqnmVbbPPp9DLCSbNTsIzDAvpX+3AdhyfsuET3jTngFXUIBakbIRd0v6y8P9xTq5eQsa9AVGpf+Ddd7E4xL1iaOeTcTJ9uh88ysW0tRYHQ8xoMNQcLTe2Gw/FWHrowHKXaJfUcWSXEZ5AzSE6k0Ip+iI0h+1+C5dgDA2GRuNPw6/SDw4WkR+xZvaYVaXBIGXPSWXPnviz7NtQi6TESDjkXHMBtXCIgP1cqNO62s1DsPqsCanWo+Ow8mhTj1UsMd67URM6NxGkEQdvsIKRrq3sSWIWaOwPxHkg5bY7RUpRT6bPMvcMhef3XiWbTlY/kPBuGXhGlWFQzR/SnM4ViJFqLcxYQCXEoL0EiioOfMLG03aZ397+HXzFaV8JFm3144gR0LfoNBtgdrJ+dBpGmWD+gQQ//HEuT6CINImmXceVQ9oSDkx/nXx8LJ2wq9BGXPLwtjn6cHanJJrrPkdaRyzZKR0GzGKwdh+S1zU+58jSklXgDFoHB9tWf42iM1tkaAU4/69BxqZ36pfZO2OME1orTjecHlgBFgnJAC9E1ClIiJFbGBlfhkp6I9do81Pi2n3Ozim/0j+J1EQPPnh4IPa/BULO8xvZNZ1A5+ylo55e7pCVTXcvJHZROjOPai6XhbcTzR2vozcQknxc2HOdsJZen9JJ25kSoy1Q+DfdA3nvA8+Z69633LTonJhHaxfxhux+yoLKlLJNI/C7LgJM0xpX2zyYxVA4PShTmRWjsSSrTK4u74lpL68ltqZu1Oc3MXEOEOy/vR+O/HBp52r0nt4BBAFsrfuJHMOTdUAHyKdh6eLuPTlPUiCgJTRiF4pJrOIpXFFj6OUoODskHG99vnv58UyormuQQSMj22Ip34tKSO1+KPk1PhuwbthsRu8M7iLNJdp/fbiPBFYeiAd3dxbc23w62d9pUaJyNP0Td58j/zOYWx6pei7FrAZ4l7VoEi+mIpNLMXAnDTgsEepiaXLFTBokwLq1MbhGuSPKhOYF5zskrEJQQoWyEaCZwb+pVDbQtyeQwjQSeClv7SR94xkzb2v/++/cpKvwXLF56CD2vwVAzDOB6ClnROTk4fynI1YggHp+0QCg7Sqf+cludhKRiYZqYP8gZoknIY9mYWpuS9dPmO8GKmtre8CyUv6lj5wQ5wU0ilMubyuQkzhNwf4zvIeb9r4I2rY80IjR2pptLhfLE06s5Hs8l2VrvCf3I3C6C1WL+ruTwdLBAuikvqrAsW9SlOPCSLWQ58bchV5hWNt+ens7CpiR4Hhy65PI4zCnXSVQngjTK03JA/86eRI726zH0hYW618tizo8IWU9cTw55gIXMxKs8qC6aHGkptoC8XYW+ZoXPibotYV2yubewgh0kKjAwpMZHsUtfR5tPNYz1pe7HfioGqHv4huAkeGoKWYUWLylOcbOuH32/ON5mB9TSTJWwjAB32S5K36E4wWo8dapnycFyjAIib8M/WgfU9czXsgtwTQ9i6xi28pLuy3XdHEFA6HkNhpqmO/QQhdOzxvjG+UvBwnl6cUhmPpUmR1c3szKHok8KBixGku1ySCNoEvK0y3mKs2ldR2xFDVkkWPZpUvDYB0dsGCciBHr8XP+PnXgWX7fNv6PwmpoGg6+6eZDL0d22byR45JZ4PErk9Z+qfhRiyoFjlZYP5UELgJYuxonbUmcXY9mfCcfwJKvgJOoY0sSF0XPsWOSS68njcEyZ4+Ues0BigNaPuVw9Wr4uH2ZAFoVB+KOhgf5LojFBSHo9yX4fRS7ARR5Uh1RCfD1bQN6uQt+68QI/Yh3+d+R/Zu9RFCdll0dYiph1Fi6aZuUQV+lnS5uiZFDGLkL5FtQG/KcPPyCFYgMndxmnMd5spe3eEHqmYctovZnjNcfQ0gyih1mXvVQfiLwZXULVgFOXG5t7yQ/4Pod+BLhezF4ACD2vwVCTdLcyHovl3axTPuVy2UheNlrLJ6KbL3RtW+kZDZ1gUpU+eMyT1ot8JJpaT0qqW0hPROo1w/WAz0tfusfLPs0DN0xNCDkyrjjwyDbUFfrM6VPRBj5jInaGhpj8EezBd8n5AuyrtEXxKVdO61qKW2DiOAerNM2JwTSnWNYKPkhYXccbTtTLSqaktzEnQvGBhXcpzrWLQwPjWLQLkxhYemaDTgvi5NnHD1nhOTcyaTJTwFnNgiHaxJU4DTgzg/1NnLZ8lhWdj4LpOGSAJFmrn82uQt9eh0J55QJnFcurnAwm0Zt7mW4sS0NQGDXsU5eEawwXc47mWIau8qgM4GKO2RtWGVcVijMxzHYZsOtlpVYPnLfw17VvAgKvZDLy8Pfi4qI4bDAKyFup2yvdJ1fSeMprawFRjpTxghQyDhpCz2sw1CSJYB+TczvA3BIJbyipsXb8yut3zAkZw4y6g9QdTu9MWa98eJ+AiE3LUygCfQI50gKGI0vCnbd1/qjfsRNgTTuvEUincnAezSHDLRhd2vVUZDB0o+0avGBxvLWMG4asqHXOpIur/W7sOzK2RoBK0+VJqVaQita+YWLDic1v0Y4YcThLZlfuqthesZEPvJNnv7DKBp5BhyUFu5+tiYJJ+idDvRc/UCiJyZZB4ORmX8bDr08LDUFkTderKU7j3c6e8GFVzk7e10WfaJ+OI9DV0xqQL1KhoYz7ur0arO99+RVPLLBPuSU0SfrcF6V7ztaLCAugvMfqz+5K0Frd+a5RsHcnOwvtd/tnRXM07nhfTSHbqoIUkn8Q/klTEyddOy65Zhs+UfYoBya+whyfOoHLp/5mUPhgfQ8zD1B76oaTSWo+QJs548oXQs9rMNQk12g6NySvzi7xk4jkT+mmhNuoe/ERnsTFrIAjo7+QNHaoc0haLziq8iYRbui0GkGuvkEr4mIlWhUOucU30friH9Rio7V1abE9ENW+rv/HTOzUK/YWjcJ/ak2ydJTXZAy3iHFLUiSUdyzjVM9AyQBaTcZlPEZJ9I3uLL0876jHY+nY6DnAfZ4XFI+0DHyn0QR3+9F42xs6Zw+tm62uuhCkG7pcTa72KbH8+PcpWm623u0PfWqIgmTnO0Rcsi4PaDKjzOExaa7pHa10tzTuvL970cVY2NKtYCjAU1x4iGWFPTfapEJvzfYFSfS5K0pCIXvvYVORrHhPAmeoLQ2lKrCz3ppCTry124g+3Cype09tbRFhO7XzAq9z7XVGsH/mRnVjoEsP8eIYXNIH6pNNEqJeeqXvoidkpaXtd59eNFprCD2vwVBrAq6Rg86Xw72N2IkY7OWy5lJqlSAXbMqpRC9pEvIoWz8zOWN2Mqzd4AwtVcQOev+uTWl/xACmrZmu0Gv2bmEDn/Hxcn1n/xPIzi3RI4aCrYZCF4K0ra5n/bBnWYW7SvF0fWd1nMEhodGNz7fXD6Z63adrva6FF7EgXMYpuC7ZFVxiZVXxREIvv9zdJ+c2yKZcVB+uxexsQ/E4Sw4A/DPapu1PN9ePpnvowfCYI5u2yAn49kzfo2U/v3qTOzgO3hvvbUii3OjIpGVXAKQDtbVHMYh32fyl1XiFRHC4IaYDja9IhSKBK6OlufyR+sXNN5x0Z9r+gYB9cujoVh8o1RhH3K1Lq7M1q/KuheeTRWMWlwHVxzgku48QWQdjERmEntdgqDWRKdFVLJ1oVtxkC1KTP8U7Ugt7SqrTOMgpMyyzmCBp2jZZCKR+rY/hDsNcbPeBzCsvnJ2R6po1HTinzr5oSEB739tDMCRU9dYYV35s+cDYm3+pHn1PLnvaPsIMrLzRvZsEhtHYFCjm9f07ozCBlM9F9UlO5cwraS9LIwQ4Q5fretIpRVDfnjQJYgIFZkBrcrvRdL5m8PIbIy00Z2YzCMizXNATFvktRW7x0iAdwrqsmyo0vgIVaipm5WzsBjhD/6IU0OoX5Pne2d7WAKo6x2NysfooLF0bkX8HkRjBgStw1K5mBQ5ssMm8Quh5DYZaE+goErPw/vRapwoROk3NrWQ8U04lKoXT3BJkfjPqlqSpORSEnOb6122P9Fxkmww2BNTverHvBFtF11mip+LxBeno9PTrZy04wcfXGgGFQtpEktJQHkxBpB31TclWFUa4YWXhpf+3GqpfU6gAHTly8x2puqxjG0FAm/cZi5G6AmsUEC9U5ahNahdECnUm94XuI4OyhmLMKTtUb2WmH3hkC3Kj+zR3LdUck8eCwtvMuri/rV2FYj2RW3hwM8EmOENdwIK1TFOSkcHfHI9QRHeQsTpDB1dYzODYES5eyZkB5DOZ5iAIPa/BUGuCEqNWdw4OD49Of94Yl0jk5UgvZ5SyTIW9UG6UF/nk7MjUhiIbwGxd1IaGY0iGQnHOGOvDfSZuuGkP3UwI1EC7huSV/ina7YnC/NqCTHipdEXsdUEauJ5kDwpV2yVjj5Z+bltgwRXcKkrRulHrNMPbYPnzrkuab7KuRXo1t41QEmxBtFaTViDBVujewxK8SK1qTG6PLNOK3uONPvxLuW+D6q2MlaWlRmGm3iN9ar0tF1FI73GVMScNW1VMj7wc+eot3s5snGWYM8QALmOHTcVqA67Q/NNQD6YU7NroncW92PCKGwPj1IY1t8msQ+h5DYZaE3SmiotJaXWfcvDQJn4pYUpVEhp7SrXQGZ8O/GCW6RoNhWpuM8Y6oZmGKe4MlNota2rAdegYIqL7qMCRaSyRCyEDsDzOgFSPjNZCHV0KadKwClrer8ItpIpgUFG1KsSJYbKCgymfxkk+0owKRSMm+/5YMMz1dC1E2mpRpuMTfckiV6hOhcK9YzjnOD/ZdLDYE40jgGBycTQAZUR1bj+D/JF0Da9fINfYnovAe6LknxQOyXux5J467J6bZJdsPCv5p6EesJfwuJyhUTpoDF5zg2e2/DwAi21yv0HoeQ2GWhOmzkpZSK2meirRWU4JU5pLNGlWpPsyp50C7tbgAHLy6zS88WMx3vpwX3lFPVBy29Vpwv3WnULyVFalLWJJQDeN1vf2RC6+WvyURqDza1g7ke/M3rMeSyq3FGcOyBecAFRk5xKaADbUz6s8ijFkpCQpBNoo30iXpFg9YQ+qSSnsWY+aqMI7L29y4d4x5LFyjmL+u8AXiiNAmtXFDYwoxlZtiUQPNFLrrtbThmPq1nsWKSKa8nBuB2KsPmgUSAIu0595VHivj7oDmjGwRrUnTEfcqXTQGLzqBKr+dPWEqBAzzWMQel6DodYEnY/CWRlt+1JLZpKcKWFKCkfjHNeJXexebPdIwvAmNt4eGXzkdjOTQiFairXcpEBExSUk/6DEUWI3cT1UIqdLzKQtPPK94WvmkkzX6GsnqrKxpvVjSbXrdjcjIG+Njodg6jaESFB4rPEu0SI/s9gk92tRuAWliLXUgFOkvWiVCSdb8WI0b3JhQgzJlDjJmqwP2mwjHStCKxCniCJurI2aXJd/SYQue52ZxDJS04M3BikQuruHq+Rr75g+i/D+EGOrzdSAZ6X+5g4MQgRj+ANXkItgt5QHmXc/0aR7wxFkchxA6HkNhloTdD4KVShZ7HTvG7KeSQuGRPK8jwQ+gHTmGi1yi9JFfpLh3SoKr7kywByx30wRymGCYHtMEYzSIKLisOc37ZVYvBEKJX/r9kJQeSVjF6Hh40Kz4junVE0LJDEtSVy8M8CB49VEqpI9Os61hCaPCWyz5jTSwjS9rqTG0ppdfzJAbdSR30VOzgLd26W5wKFZWd7kIn9AXzb5grOnc84ov1DaSUuztFNpWaipkERQdAFdGGCeXB/1Lh0vONf5/l8JOGqvyfBFc8bJpkL6Cpq8T/RcICVifOlvyL9pmbrgVaR/HqeDRrQ/lVv6dWlU2gU/YiWiQhk6H7l14lPGKFLwPLXcoOy7dvKN5LrRpIViczUcAfKRWCsfI/6Q4c3vUFeJJ0yhR76IsMlyj/BIsDTJVh12YKYKQ8pdVZa8UNxdilSAxsGjRN0EROjb2w1CnfptwZyhU2OONT0gzdM15woJLqm9JzRgNWloaIfcMl04mjRxWkhSwKxYXA5o8dAqs42WASp9t4eZezSulkP2bt7kwojoZ1Z4p7X79dD1woGCGh46F0reYwb7MPKcy/fOZq3ZTvWDguKghWMdHGjWXRAsvAr9/00AOSiOOeS1wC0OxrjUQUh+RFubpvsFa0li+VvZ542bD+kMH35kstoQel6DodYEGezs03u7nAk2kdlNBXFpRku1xiD7q9kbkGandNtD+v314nSdfzC8H2vwXv7CvTXRpr3+QH2OIiaZnl4Alija1uGvT0+8ICIR6iBSKPcxtTwiVO7hYg0qx4EH9GTdHykDixZgxkX4D/p5y7kZIoRHUVseRDH1PUX7cBHoZnwqHkstLCni4RIuQ2ro6EmK6NRhNRcDtCtzOXV5k4vyAu15xKZ9La2uJLmUXAHSnp7F5aHME1Jqlr6MpB7vP9F6tHXse0wIrdWsHW451123QqUTHNJMv0MSLEKL6/Yq0hta6xgE5J32auo/mbTe4MkyZDR0LLHzSRF3H+HJJLZ+lb93cEvqdouHfZLqpBjytmTqCaIK2dRL6KmUki6aaCEZZzQgeEikI9Psl7IjVP7u1Df9Ad6ytf+KJauVW8weS2PJZJ4B2Gfg1uB8QlCypt4ZGlUdkLcKaxGHwA6FnVD0Nkhe6ruFYGNS4ccufDgr59Vv2nQxy++MKbyGkFp21tXsCi3yg6OdlUbIh8DVp+3yS10vkjbhRT3mi06e9xtaIo5c1UUimuc9/XoL5SxOz0He5OI50qXXobuAYYqhSq2E/5VcJqVy2v5Cl7U+Vs7nvGIH43ZNGaZjBOfTtsMopduG6JZ8cUfssZXHTJmnTqdzfHh4uLuzs7W6ajEGf9m916ZNihXO99BZp/M1/Ct7Ozs7a6saW939qpan7YyHD3N3cT/amw/R7y8c5g30w6Gy/eumzF5O/a0rvJdOB20dVGl2wjkiuobCMOtGVxiEntdgqDVBuUHpNgcX0YOfypdC3+nUSoWUZcoNnuxZ/7A8nE1Q25TKhyI76BhK/Al36HKnugNgcAnPfetoJP/UDAOvo3MW2oRAxy6dMzQyTJG7atChxalLJx/KVqdJa7CfEhp/Difo+fkFd+jiSVXXAz12CCGcBfuJqzb4Cb9m69j9bsavFHasZzOpm6FQC6AvZu8pB1uiDRTC7I6rPpRsr1Qx+wmoETuiNMc6pdmDjHQLieRNLuaYVv4kPEA0Ja9VAjpBQ5lO5Uab5e7KwTdWZhXdxkiND5ZnYDXOjiNbczHe+qKN4xTcxGluy5PiJgIK/Sr7+d/Vdzz9GVxvoX7KO5izw4MO35PpZ4oD8kVpUI9w8YcPVWbZOPjCf9nU1AXbHLu1WSkikw669LWa4oC/Sztmzs41ZSlB6HkNhloTeIATJ4QyJzdSJ5/c6imvuq5qnqZdlTl/G04osbblhUHC2NLun9uufqLXY9yK7arZH88ctdkacY6bXdD2OlxwTsoh6Ag0QX6Braagxc7VKQSdk+uK5lglQkIR6pKSOCZ6bD9bhcnPemiRT0Gd6FsNPwZ6rZwzC67Q4h1xB3hWNHIVVdqm5FoV/lwcPtWUiuOydlA8kpuv9W2kVRIJZRV5UdVbuRvgH000LQfHekTe5GLTpWA5s74YXOG6GEQofLCLbAjP1Nks30vh+bNyMevCfS7Q6mbtdBZW43CAWJ99LrnUhn3jIvk6Krp8BAWKhH6z3zgGliO16YwNVvpE1uP6DA9PSFp34dK0Cm41jiBEpBst94aOSeNaDW+poUq++xVdBIiNqtFXbIcWLOnsAJIUjMocQs9rMNS6OFAnpP0dp+v2SC0s3qevOOXWpFajNKWlq+Yp6zB624/wU4YJXkjcGLpEevRXyzRLun9PF7ZyWh/dXmu15jDPFIN4MTzB5HQnUFWcdy3FiUyEkwhl30Bo99SCyigIJsDDB7ppK950mIGvw1VYVCmceFzQmma9jDOLr79Dn1hEMVtZ91EfLmmj24HWmyz7+lTfXGIz0y7GuDNKdA2bUoYK8TlySWRvgMEpfYm2a5maxuT+wXlY+5mYpvr/sRvlo/Geo1t9Xd3pd+QwqVQeNLjab+sy8N1YCZaORk6/nQyxCbB48JEkom9AxI59R+sxg7zex45IQ9+xuBwgR27LUyODJw6/hGREJdfMhWSaG0Mi25J6Q5IiNP0dsElZhLm9FJo96BV4Ce4O4VVVtPYKWwcZ4fZi2nuOuz6Y3GEQel6DodbFM078+sG3H18OYEY/ZawoLf1TUw9d+XRGMErwtj5Hd32iyoDvJG5Md08uj5IdO5/PNqsv/9V6cOl4RkzvWGBbXVyNPnGwYs7tI8jLF0XL0ZmBrMalT+E8PfW55+U8vPmrNhFBvlv74DDSLqnHJVwXrhyXywvEybRENmN4a4OFpMh665/xZGOOfakI/DI9ZteUoZM1JlawPg0Wv1V31KH318Knj9HklhWhV3DbrLmkpCt0Jvc7ZGj4V84uru/vf5+f7PPZsXZGuFK/2Nr4uA9p8LGqRXv9r/K+ExdXlc3opGHHkS2rAwnS+tRR7N0fBB/wwjwSpx1otTriljpKmUdK8g7J7DSTFJEZrYicf/vOVf9SIjRoDSMMA67qDzGnlrIvvHq6XsRvTpZWLB5XzaOKYNmv1bE4J8atAyD0vAZDrQ1OEhryLqvVsJxMmW1SlumbOG5GGbI6VPqctxHeXx+/XVycwoH+ubwlfOxU73T2++PfMtPh3BE7FercAaAmuEApaxOH0ZhQ2riqhl4yqOIcDB4fT6eVb9phnCsI9lKX7epTWQmCbKTC0iTFP35kl47/PkV/+On64gurrBXLn35Ub2rtf7/okIVolfUD38CCt4+qVs70OfkmIt2SLc76WigR9NeaXHR81/BemzIbc8k1IooNj5pVeEm8drY4pviB1y+w+Fa2lDfNPH18R/1ZGjwRUOsbOIwot9bjfgNpPwaa2BIZW4cfWS2gWvNuXb3csrdqaLSTbghzZhXvSzpC+5P+D+7FoFg/H2mS5GxYzV5eIbghDY3wmqlC3y5SZjFYPMudOqpqSe2BNqBTmV6gspgI2Uvc3nBOpVka4ZYRyoMt+cPLWLmydozcwrWUnpPRmkGx777QHabrL814RUK85//ofcr5+jv2BLpPBvFaSVkXHFg9u3HGKrFTXkoOfrBBKhHKTzFM5FhMR92v+ZM/lnGb6E3u0DOcxEE7dz+yLmp/+NnohbELsTPMksuOdxiCPHzzWreKnnWQqGzf7Bdnoronh0VhKqGaPaH0bKUVwYN6raBwKNK2KmLxgicqbu1Klry1rV43L+5Y9Ln3O8uQSQd9P6o24RlIuyzic2JMhoDQ8xoMtUZU9hTYvdDcx7TJYuqsIWUtY3KfIEPXUusWyjJb/5XwbK1/rx5wm2cGV18/7ux/z85kj1edvYPOL7uTxcqA15kuvY6mAEqvF1NhkDt6MWSzVIoOshfbh3X17pgav2DhP4y6dODr75yN0TtLSU9m8XPRTdj9FEvnYLuaOX89phmtsiObqn6C1kEmqobp6r1zMF5hMrn9685OcvZqbR5fOZm13u/OyeHXH79H8rc0hNixYTlZeEeBCnVqWTmrYGFj3ZqT9plx7lihAbstp5pnkAhtnTwPVFpAerGAFG2rlzKKoCI+x+mUWCPeqW+1/aiiG0bXYQi+vUuykYZ0Omj7aIRpFrDPWOu+5XNizOqG0PMaDLVWbju7W6vbH7/+p5+2764jUhenq17KaYPB+cf13aOr9AqfRO6ncBVw/uXjzurOYaeUpmgO/TNe0qbihZdx74jPlect6kkQUrmiYcwg/2sr+Q2vtyLz0H53Ujb6fHu8tXnwfbQ0IT94/Lq7sf91dLuI+WOvhO9t8Ps409xl/ZNujZrj6cfeztq794cGa+JC/3IvFJLVpffdyfbmwWn+74ea5t23ssOymtzXfz8vIv5eP1Z+OAUz7HC2iBBWVwYVys6PeVah3DHV6uZk+VPdmqDLbrImmUTomsq/211dzchgnnZsf/IoNPFwu9CGI1w+S9npykv6p9MxB+TjNMxK22P94axixUod7jHUjhoSVVlqG9fYEHpeg6HOEOTYsN1FQsRdwvs0bMqDGg9iteLE/Jf9Uw7bZk8JFDpupZ/cnspKFEZjgFYtJesBw9N/d/mtc3J4+Lnz/eJqsqr+5byia8PGj5IVXYoZNLlzQ5zwaImnx1Xw+nmdVahtC9BZBwV5djcnUmxtTsUCsCpNtEQiEbpjmlU4ympd/P5eiUPp+ANUH6CSMZyaOeLPlL/C/f+SmUfB9mWJVboZzlNdR/JtGla9Rv8whJ7XYKizA+Kqo5ScNYKfvIKKWMSU3z/AC6Bav3lsjhg+px43S4VSWh3d8Sek6aH6c13SYKogKnR6sHfM1gwyfo++LW+cCIbjeYRr5K2NoFHraK9Xt8Gd64dqn0SouQsGn3scGniNfx9+wq3o32o74HWndTP3Pipp37qdZGp3u/peZBlSrV2MGNPrIfS8BkOdHahyfq6zcuogc+tSy41uskpaUSmtMw46FG6bM0VUi/mQhcoNaAQtTyj/XJmHFIUpICp0erBbyZbQHPelb64KRcJNanfCLHkNWRbeQSD24j2otGhLtyfE8ZwnfzTyiNy191E2lqPJYhVaytN1/ymZDjrKtoxZUi2fTJjPCYSe12CoswMlkziXRTQUFS5Z/hzvs6bCkV2lH1b2v+wjYTR8QCs4Q+OtlKsvgyeB2ugmpPV9ZroZzgK8n8+mZztmzQyiQqcHqhZNClMhKpTVnr5nPeBWNdULwLl3K7scH5RlsYhQrgxzVqE9KOWXt340ES44xsW4nVeJMFo6HXQz1Rh5VLgThxVzgQaEntdgqLMD3YnN3bPIhYGS6l+i8AOWtVGatxKhaxeR7uzFfQzKB6y5DVKwXLF7+sS4QsnxqvrOQg1cYxJufZVTWhFRodODSzlsMaDYX9pYFcodua2tir7Te8yR4EKQHcYpuiRCrX8TzpOCrZMSwAlzTcLSVTDzXeJa9ZxOB23t17uZTZwhYsV83iD0vAZDnRnQHaWunIu5RAWjsa01VvahCu1H3XUOkBjT554wpZeyvBFO0PI/1N3lFeqa6/aKgg1sEhnq+nLNiYQEokKnB8dabWYv9oXqK8QboEJ5k3ermkLnVXdFmAMTCcKalBNq7QTKPbTcNwyAV/NcheYt/u80ZVVovLYJWTypu58f9yLYVc0zsrCj1HytIPS8BkOdGajlva3dm/CyHmpE6C5UfL6nVIbhg8hNL+yPvYa477PzQz1NzjlZp3pXO4F5wbkMPsnjVx1RodMjDgFZyipjFdrYTk1wc7asYWW4Map3nuCOWOQt+e0gQsurUCi4jcjN6r7lqipkCnHtwzNUoe9+1J/9hW4vgXajEfu2SgoIPa/BUGcGRJhxJGjprrMI5ZYCn9WjkhCOnCFVVkvG26puz0ZI9uGIegXUvUJtJCpfrPVB6r1GQVTo9Ijb1FnMAbcpaq4KhaPBuBtPBMeJS3sxYnhLMhXWvFRpXgUfxpLL0uAgQ9z71bU8XsFzY1kV+mEse+txcZJ24cRDtfTthtDzGgx1ZkCmh8ctgnygG0eckOV0GbX4TIaYeMVfcpsy2n8iZGlmZF3/YrvAogqOfA2CtW9SGj8aokKnR9xCGcc64n6hjVWhcHPa6oRi+VM9NQc+PtWzHjquIM+Or0yJLfzjMlzXyqSIiip0ZzyihLee0XpZkVtrq5OB0PMaDHVWeMVZX/x0ITsmuUBPVCtqgvEh6b1kFVqu+38v3nepemlknuNVBY7GwMMXPzcanTVuD+WhGxlRodMDxitYwbGOWIV+xAtp0KesjBSaMdJbDhngBiTVI9DYBHg3USt7ih8Z4C2dSpz6OH+szHzFTWBKR+S3ftUfIBzgs/W7qXJ5h8UnBKHnNRjqrIAOYBHzvHlFfdCKs/0utLypJrysQsvJiji737pOLgv82zgShHlGVOjUiAO0ttBIvL+SXuywO9U9LDxrsCvQ2i4TNrt6jIkL8b++3bGwp/byFvC2bRw6wJX8pRLPWFVe4biIWIUGwfK3uhvH8JpAuybilqu2Df8h9LwGQ50VvpPbLKLEvdhg4pa3rXQVHZuaUg8N/1KwWeeab0D2aI5DXIIQIyp0asQpn9ZKFbzHsI84q9AjHM8fcHNae9ZzTNK607wVLsT/ecyd/0IKsn2wHWCJmYLbbpXaBolVpauH5hqSXNH+VG//Hv4GWj/xKX5o2zoAQs9rMFRhTolb3n7BCwBZOaUabTzCCgQLtXYsx9wwQs8PQZgZxOROjYLyd8C5hPqwPWumkgn1MwSaX1p71nNMsnrrEe5ZryYonqUK2oBjBVBChXIQv1RBJWR4iZzXv3HzhYjdqxqdNP/hQ7X5ESx/bSOF0PMaDFWYT+KWt6uZBB74SMs02lD7TyisGUOlwa7F85toJQhDxORODS7LtgdorR1BWdY4h2tnDnZzWmU2uwvLb3rCYINlxdEL/BsF3ZRQlWDL6s0CSV2qlL/KDp4PR1y3G7H6veQe9Ga4paKu9AkNcKwBeVGhwrSJY+hZo4nVZ5mnE02yguATXqgJuGXd+7kJwuwiJndqxNZQ23uR+YQ3aePDce3SPV6YO37jC1o9gXBiRDu0VySuXg/WrmNN2rYXO/H6AIcOvODP6CvNDFTaR/7tpYO9jRULn6sL9BQ8GF2jKVao1tpbCD2vwVCF+YSDC1lHI/tISzSXiB0J72ruWQ7bYo2SCcKcICZ3anDxsz2QHL9LpyM4nTGoXhzuOV/o+9kFIXyX73FYHu79GWyq8DXHne2l7KxCnc/9gMsi9Dm+BnjHPRw6k97JM3hfS/tQqFCt3odveNE6IUPoeQ2GKswn/Fhkn254BSxbLmR54tydds1eAC6WrLXsXhA8RUzu1IiLma11J7xlojbozgmRZaLCswWknrVenUPBtqoYO3yS4ZVmUWoPs7GX2tnNyPsOlStPQs3+Eg7L8IcVrGL9fHSHDTJOdTKaK+TtJWIQel6DoQpzCef4rGbVJp5n97XsYIt+o8D9XwEuGZiJHUEFYUTE5E6NONZuLWNmiRV8wwtJuPVP9Z0rPQcdS+xOAd7jsnpyLHZ4j6PecJfYxT1XNLk2/0TFQUSZ8iQUoFXrxXX/KZkgunhcLqyfB4sC3Uwd7ckdYXcLQeh5DYYqzCWc45Ozp1ju6eysHsRpxmB+2UFhzdUShDlBTO7UiNsdW6VBn1uB6EzdAX5WbrePGYJTDngLaC2sf6o3x8ReqrG/kecXa4oYOywcqxnuoguJqHVBQ/wknPpbNTjXTSWItvZG2/DYnK/27KaWIfS8BkMV5hJ+trOrJW7f7NyLIt4tYLW24j+Gk33m1q4LQgIxuVMjVqH2QCm33dGVHnOKU93Nyb2B3ZzWHZrLt0zK0IeCittBOUXEOLTnpg+7UWXSB4StS2SwcofO6hNSJkF0478RkojNKpTTDdKNwHNA6HkNhirMJbiFcw2IEaooKEkc0uXVXav2vXJfuAHfaEtGQZgNxOROjViF4tjAD7yrnc+a50ZN87tlCrIWrEmR7MTYx3F5bvAJsYtyAAe0tekQF9Y7tVMZRFuELr/gipWogODLP1L3+T/xdjERS1+sot4GpvC8On9FoUZRcBJCz2swVGEe4Ryf3EIK5ti1RWdcaliu75oTXB1Zci9RQZhNxORODVah1m2BEt2Y8gtjdtmVCPDOGGgKbRV63C6l+mzA6bXDM8z9Q61yDV7qdRxaUXL6z9sbHCju7hMEEEfYIl9xd5hMEG0duPfAT4HzklehaNPULko8hdDzGgxVmEc4xycXW0BExbUgKO5dUr0zh5FY4I6axi0Is4CY3KnBKrQokswbm+cjv1xUM7fdQjlUbq1+d4wFW9jDJwzzu9gbYS1+5S5SDqXnqpIp2jAQVevuJRD4hVLNnbR0vy7RRxGbP6voWtyzuVvxCRq3sE0BhJ7XYKjCPMI1hdkNN3mx7+h+vOGg+Ur92VDcbaJgESwIc4KY3KnhqkJ5e+78psKodbHubjnTsD22Vr+jX8oI3kI4KBNKj3s1WR0dXG1b3InzTzRnbUZhePgMnR0onBtQR//q/g9e0CiWTws2ytcAD1Au7g4f6XKhIIfQ8xoMVZhHsOLM5fhg3eloRXj/iaA1hqB5lLxD4AVBmGvE5E4N3mumSIW+ciw1mxrITZwyrw/wcl61zhwcbI+/oaYalTs823M4bfCmKcktjVDQY/VzcvuCExwbeYjeuKjCa1CuwxqIglmPA4g1bdH6O5Ug2v5YNtsUw88mz3EJVfEoIfS8BkMV5hGsOHMr9wN63dqYeAhHT8bR0TPOCg0W8IogzDVicqcGN4Vr4dgIB96zlhPO1JxBpZfnwYbxJqccmXpYzid/sk6zd0u3wY08k935uJ/LfzjWCmC0iCrSvw9q5iOF9qJ+Yxj4e139bPUfwvm4UN3RmyGdIBpsX7oXSoWgEiyzcFL1/yEOUzKEntdgqMIcwivOXEoM1GmUNVMMh/WDnVJPjxOXHOsfpeuHIMwQYnKnRpzfjmMjXb0z9AHmKufP4rc75Ct6Dicj4DCSczkZyqVF1VsZfcYnJEuGuPAr9vrdLOZ7lnJIXh/Z7nc6nUg+kwjlVEpkUfDhQTjX2BySSAsttfN8Ad2vvPGgYuVbmXaH5CNup5LhBqicd2neDaHnNRiqMIfwujYbSGd16rQFxR0LxaXaEzf7X4cidITwjiDMEGJypwYbxOLsH3aG7qZW3ijRzvsAUe2ZS8CfPdhdTKJHybn1rFeQg2PVS7RQiJ9qhTXgxC9IxJsFjQAeoN7nF47TRE7ar6GeVSJ0iz8cDuxl+hrRPWBres1poTUF5EH/HFqYaB+5nzto/tSmLlDxmy6rHgg9r8FQhTnkiO7VVvZe5XiIy4qsFz89xRnhpXj6e8K2W+HaNUoQZhoxuVMjVqGFUZ0+9vYJjvBCBFypmpgQW7LZ7zbHkS/1Ta4jF956zu+IUNoiDsvTg/chnRLGIXlqEvUrUoPbuVONdqZ6T6Ua/C5J3OXYacLTnZK0f8M/bW16jf1Z6gvIM1e8PQux67oNKRpqJ88V1kjLTrVOEHpeg6EKcwjyvXNeRqhTp65rB/Te8VO9A7IgzBBicqdGvANccVe4Z0it4CQWQlAzK5q5H7694CeOZxcOeW89vT0eRfonL0I5lFZtn/UIDr6n2w894NXg4+PbnXJgbud9fajKSQeoGe45GpKopOXE0NbZy2Mnyp2wtjnFZ9QZkGfuPiZif+61bKipi++tAebkTbfgJISe12CowvzB+53lAkiwmS6tKGLvwdipozGGIHiPmNypwerHpTfxNSuGd6Rn7pAvuKRzpLGba/Z3IY479oO8CI19i19xXB7Oz83E1Yf9UgiNCI0nr+84TMEx/ZBk29FUlXpBMmUXl71sKbsb3S/JBFG8WEQ/tRX+4AKHh47eWgg9r8FQhfmDl7XZBTqrU2t/YOIeSTIToLpNE4QZQkzu1OB9I512yLiNE4aWdg4/8MG21gHFKlSfrjhTxB1RFHuarC2E0kbInOSN+jNptHEJAvFJm/WIVlK6QB63HA1JuTvjxYdi35qOAYE8toawyQRRvFQIFVuF9+H7ky8f8O9WKk/UBoSe12CowvzBeTbZlHmOfMSJKZ0H/CNLHzH9STCGNlCC4B9icqcGx2bd6mp6aAuU5ItewrCdnP280LgPQERLG7vm9IPqW5jAIZhLLOXSqAhNgTyBP6851Zf0k5DMuJNpZXYRyhm+43GFEnGCKI6LYRk6ZMd9P1AIPa/BUIX5Azd7rmc9Lw35STsOlg0ylFe9k2D2g1mC4ICY3OnBOyo6VoZcfUh55xYOTWUt7Cmdh12IL+L415b26/bw0+qt9dgNkturfhBPOK19Y9IjnKGauDo3Nmhno38D1DSF2vbULkKROTzmvbH+Haj7CkcOvKgUXaa1ZyuvygKh5zUYqjB3DNDELvdEca4nfKTRs7usLZf/Re+bDHMQzBKEYsTkTg/OPHQOZ76c7ZLCbK++/8/cFwfCbT66zd2/j77O8oFB6nCJV/Vy0ocOoem6cr0VzVqrxzY5D2do3ht4oma81WNN+di36HPb7zoFbWEGcGqP0xWqeD5ZLKNCw4vS2VZCtL3+4aRcPzAIPa/BUIW5g3e4yPWs5/2KlBGgZaI28vKUarU7buYgmCUIxYjJnR7sayvcATLF8+2dPfrMkX6qH5kD7u/NpS8cNrdWmo+A7W8r4AzdyHs1+09PT6buRYM7B/GG3pyT6NfSOyu93+vz/U2Fnt0Qel6DoQpzR6rzWxLO0Y+etQcVttcalAG3zJsMZYIMgjCziMmdHmwTa5YZsKhtkwKaK9ArYISe9aOCNM/6ZfAz+bTr359Fiz03oDYg9LwGQxXmDhQ75nrW8860QbB5uKu8/PrH+US9Z2LMQ0qVIBQiJnd6cNuQTRzXBHbnKedhnVWQfbCMwymAnVQWaxeL6BVa8/4sUwZCz2swVGHuQF2dJlcp7eRs/4eXM3Al34Rw2chJEGYeMbnTg7th5io2R6IHF1ojTNid+q5uW5iPC7R0+lCzNxF1EHO2mIDQ8xoMVZg3eIeL/KbH6f5pq6ZQ+IRVKP6qIMw3YnKnCCo2A3OhUQWo3LM1Xy40E5zUYPBdTAYMIrm96ujckLbdnFCkfFJA6HkNhirMG1wJr9tULtGBad+Ydz9ZFTrFAI8gTBAxuVOEe12aOiRXAV2VG9LwmBO9qncLrQOM4gsO6+AfebQX5y01DELPazBUYd7orBLaysAzWva1DiwtKSarQqt3nxOEWUJM7hThlpJ1diemNX1BN/R5YYDGKWPuqFnEK3pu1VehhM7wCzc4nhsg9LwGQxWaxdPlycmPv9b1bPdpkkymLFEQpo2Y3CnyV0mNIDjEcQ1QdPiwGSI07v9n2tloUvTgDS3oQu/MDYnQ5bF3Cp04EHpeg6EKgiAIY0dM7hTpo8K7vtALbRt5jKO5B51TFgt6eo6fARoT7NThvxh8peDg+hx2aoHQ8xoMVRAEQRg7YnKnCZrx1NcYLvLJtb7jYO7pYw9UH5Jgv9BQjBvOu/OIrjHb89jwFULPazBUQRAEYeyIyZ0mXLRZ24bBva1g8S/+Pf+Q5zdY9KIp1QXnqI6Wy9n9Qg7y1lGtnRN8AULPazBUQRAEYeyIyZ0mvNlmfU1+unvl9vWeZXifdU/6Abyo7adDNn9WTg/9d0DB+GBrTnfvg9DzGgxVEARBGDticqfKFmmO0pt4CyHo07nmjdPwlndgWa44pM/4/aWp9j8dJxB6XoOhCoIgCGNHTO5UOYXsuMWx4M4Nha7bHhWSD37Qdp6aLQKdoNth8Xh+972C0PMaDFUQBEEYO2Jyp0oX2ydNcwfKGeUSDQY8cxvefl4Kgq84KMtDELT2Lqde8T9GIPS8BkMVBEEQxo6Y3OmCxvXt6W7+M2P86HSOsO9Uq75O8XUxuNqv7J49OJ/zGwFCz2swVEEo4IX2Yprb/BlBmARicqcLO0Mb012pDuAFDWlPu1+9UA4IPa/BUAWhgCuyQtc4FAShAmJypwwKq2XPYHce6ZSF7M1hX/f5BkLPazBUQSiAmgS35jmFRhDGjpjcKfOI1jzi1HMGbUIXPjanM+rcAKHnNRiqIBSwowzRFo4EQaiCmNxpg70fV+eySflYuDvtdL7/vG3IXvnzBYSe12CogmBnQKlBdW6Y3P2005j9lwWBEJM7bdgZeoJjQZhfIPS8BkMVBDt3ZLmvcDg6r512EOziQBAagpjcqYPm66053S1HEIZA6HkNhioIds7JcndxOCqDH8vRxx3iUBAagpjc6bOnbFmwKSFmYd6B0PMaDFUQ7Lw+KXA0Kle044WoUKFpiMmdPq8wP5IQJMw7EHpeg6EKwuS4pUqnEFGhQsMQk+sBd2gaKjJUmHMg9LwGQxWESfG4TzNAhKhQoWGIyfWBHzBAIkOF+QZCz2swVEGYDN3PqFBViAoVGoaYXC/ARp7BseSGCvMMhJ7XYKiCMAl6neFecBGiQoWGISbXD35gNbx5ixcEYQ6B0PMaDFUQxg8K45e/3r98VzNA8Ak/EYSGICbXE/4ukg0KPr3gFUGYOyD0vAZDFQQTNxcXZ53Ol8PDjzsjbnqneo62O2oTUKpS7ajXBaExiMn1hYd1ZYOinSl/ihAV5hMIPa/BUAXBxBZsdcgNXqrKXhDso+MolcmLChUahphcb3g9jHPUW9uiQ4V5BELPazBUQTCxCkMdmmrlxRyBh7Xf+JeoUKGZiMn1iMdDtGwKgrpaIQuCT0DoeQ2GKghGXi5gqjfxQnWGBamiQoVGIibXK7rHMG6iQoV5BELPazBUQbCAtiaZ5np3Fy708O4MokKFRiIm1zO6V18/LIkKFeYTCD2vwVAFwcKDkozBLxyCDr1agMG6iwoVGomYXB95vjKslgVhpoHQ8xoMVRAs/FOSMXjGIRAVKghlEZMrCMKkgNDzGgxVECxcKMm4giNGVKgglAWGVxAEQQiBaRQECydKMu7jiBEVKghlgeEVBEEQQmAaBcHCByUZz3DEXB26YOjDJypUaCQwvIIgCEIITKMgWFhRkrHWDZdFhQqNBIZXEARBCIFpFAQzz0oxtkftWZ9CVKjQSGB4BUEQhBCYRkEwc6UU4xaO6kFUqNBIYHgFQRCEEJhGQTDzRSnGTM/6EREVKjQSGF5BEAQhBKZREMyQYrzEUT2IChUaCQyvIAiCEALTKAhG+rTTcqZn/YiIChUaCQyvIAiCEALTKAhGrpVgXMVRTYgKFRoJDK8gCIIQAtMoCEaoO/0BjmpCVKjQSGB4BUEQhBCYRkEw8l4JxmzP+re31ycXBnh3BlGhQiOB4RUEQRBCYBoFwciiEoz/cDREdvAUhLLA8AqCIAghMI2CYOJe6cV23qcpKlQQygLDKwiCIITANAqCif+UXtzGUQJRoYJQFhheQRAEIQSmURBMfFZ68QRHCUSFCkJZYHgFQRCEEJhGQTCxqfSipmf92aoLhjajokKFRgLDKwiCIITANAqCgQH1rH/EYV2QCv2CI0FoCDC8giAIQghMoyAYeFRysYWjG/x/ZMjDeogjQWgIMLyCIAhCCEyjIBhI7Zx0FhzTP0ZmRX3sRxwJQkOA4RUEQRBCYBoFwcAvJReX1b/Pwn99U/8ala761OAdDgWhIcDwCoIgCCEwjYJg4A/pxYe3t/5J+P/1Ll4fjWP6VE0vfEGYZ2B4BUEQhBCYRkEwQHmhwdrXr2vh/7Zf8fJIPBzQhwbB8q8+XhOEJgDDKwiCIITANAqCCcrgJHZ7eLEiV52Tw72dJXyaorXx/rDT6dzhHYIw18DwCoIgCCEwjYJgghJDI1qd/Dae5TjEJ+W5wDsEYa6B4RUEQRBCYBoFwchXCMWNa7xQHVGhQsOB4RUEQRBCYBoFwczfg9XFzcM6WoXeXJiouyu+IHgJDK8gCIIQAtMoCIIgjB0YXkEQBCEEplEQBEEYOzC8giAIQghMoyAIgjBm3t7+DyHb0xHj2XLuAAAAAElFTkSuQmCC)"
      ]
    },
    {
      "cell_type": "markdown",
      "metadata": {
        "id": "1s8SSlyyVaIZ"
      },
      "source": [
        "The empirical risk can be traded-off by coverage\n",
        "*   Coverage is defined as the probability mass of the non-rejected region in $X$ (i.e., the observed number of non-rejected samples)\n",
        "*   That is, among all the classifiers satisfying $Pr⁡(𝑋>𝑛𝑅_{𝑒𝑚𝑝})< 𝛼$ the best one is that which maximize the coverage\n",
        "*   The performance profile of the classifier can be specified by risk-coverage curves\n",
        "\n",
        "Notably, **fixed an acceptable true risk $𝑅^∗$, $\\alpha$, and 𝜅 we can obtain the threshold 𝜃 and the corresponding coverage**\n",
        "\n",
        "**Note that the tailoring of the threshold $\\theta$ must be done on the training dataset**"
      ]
    },
    {
      "cell_type": "markdown",
      "metadata": {
        "id": "iMXl3SJa92y6"
      },
      "source": [
        "## Function to get $\\theta$, i.e., the threshold on the confidence meaure."
      ]
    },
    {
      "cell_type": "code",
      "execution_count": null,
      "metadata": {
        "id": "u2Ql1W8MDR-s"
      },
      "outputs": [],
      "source": [
        "def get_theta(y_pred, y_true, r, alpha, confidence_values):\n",
        "    [...]"
      ]
    },
    {
      "cell_type": "markdown",
      "metadata": {
        "id": "yJLHPnpr92y7"
      },
      "source": [
        "Since **that the setting of the threshold $\\theta$ must be done on the training dataset**, we predict the **train fold of the cifar10**\n",
        "\n",
        "Let's extract 10000 random images from the cifar10"
      ]
    },
    {
      "cell_type": "code",
      "execution_count": null,
      "metadata": {
        "id": "6L8UlvH_92y7"
      },
      "outputs": [],
      "source": [
        "cifar10_train = cifar10_train.unbatch()\n",
        "cifar10_train = cifar10_train.shuffle(buffer_size=50000, reshuffle_each_iteration=False)\n",
        "cifar10_train = cifar10_train.take(10000)\n",
        "y_true_cifar10_train = np.array([y.numpy() for x, y in cifar10_train])\n",
        "cifar10_train = cifar10_train.batch(128)\n",
        "cifar10_preds = model.predict(cifar10_train)\n",
        "cifar10_many_preds = tta_model.predict_many_times(cifar10_train, \"all\", draws=draws)"
      ]
    },
    {
      "cell_type": "markdown",
      "metadata": {
        "id": "AoOIKFRKRnzI"
      },
      "source": [
        "## Explore all corruptions for all corruption levels with a mixed dataset "
      ]
    },
    {
      "cell_type": "code",
      "execution_count": null,
      "metadata": {
        "id": "CSz-Iy0-Q25w"
      },
      "outputs": [],
      "source": [
        "[...]"
      ]
    },
    {
      "cell_type": "markdown",
      "metadata": {
        "tags": [],
        "id": "6gSsFkok92y8"
      },
      "source": [
        "### Fix corruption level"
      ]
    },
    {
      "cell_type": "code",
      "execution_count": null,
      "metadata": {
        "id": "m5UbkxRR92y8"
      },
      "outputs": [],
      "source": [
        "[...]"
      ]
    },
    {
      "cell_type": "markdown",
      "metadata": {
        "id": "I93jLByq92y9"
      },
      "source": [
        "### Fix corruption type"
      ]
    },
    {
      "cell_type": "code",
      "execution_count": null,
      "metadata": {
        "id": "fYeShydm92y9"
      },
      "outputs": [],
      "source": [
        "[...]"
      ]
    },
    {
      "cell_type": "markdown",
      "metadata": {
        "id": "hi922E5I92y-"
      },
      "source": [
        "### Now compute coverage varying the risk for the gaussian_noise corruption type with corruption level 3"
      ]
    },
    {
      "cell_type": "code",
      "execution_count": null,
      "metadata": {
        "id": "hTS_WYHK92y-"
      },
      "outputs": [],
      "source": [
        "[...]"
      ]
    },
    {
      "cell_type": "markdown",
      "metadata": {
        "id": "tdE6RlZL92y_"
      },
      "source": [
        "### Lastly, let's evaluate on the test partiton for the above given corruption type, level and risk=0.2. Also consider variance as confidence metric"
      ]
    },
    {
      "cell_type": "markdown",
      "source": [
        "Plot a confusion matrix of the results with & without those samples identified as not confident"
      ],
      "metadata": {
        "id": "eFj5CMqgyAWS"
      }
    },
    {
      "cell_type": "markdown",
      "source": [
        "We get theta from the above computation on the traing set"
      ],
      "metadata": {
        "id": "_90D80Cdfsa9"
      }
    },
    {
      "cell_type": "code",
      "source": [
        "[...]"
      ],
      "metadata": {
        "id": "OSHIdg2bcyTp"
      },
      "execution_count": null,
      "outputs": []
    },
    {
      "cell_type": "code",
      "source": [
        "from sklearn.metrics import confusion_matrix\n",
        "import seaborn as sns\n",
        "from matplotlib import cm as plt_cmap\n",
        "def seaborn_cm(cm, ax, tick_labels, fontsize=14):\n",
        "\n",
        "    group_counts = [\"{:0.0f}\".format(value) for value in cm.flatten()]\n",
        "    cm = cm.astype('float') / cm.sum(axis=1)[:, np.newaxis]\n",
        "    cm = np.nan_to_num(cm)\n",
        "    group_percentages = [\"{:0.0f}\".format(value*100) for value in cm.flatten()]\n",
        "    cm_labels = [f\"{c}\\n{p}%\" for c, p in zip(group_counts, group_percentages)]\n",
        "    cm_labels = np.asarray(cm_labels).reshape(len(tick_labels), len(tick_labels))\n",
        "    sns.heatmap(cm,\n",
        "                ax=ax,\n",
        "                annot=cm_labels,\n",
        "                fmt='',\n",
        "                cbar=False,\n",
        "                cmap=plt_cmap.Greys,\n",
        "                linewidths=1, linecolor='black',\n",
        "                annot_kws={\"fontsize\": fontsize},\n",
        "                xticklabels=tick_labels,\n",
        "                yticklabels=tick_labels)\n",
        "    ax.set_yticklabels(ax.get_yticklabels(), size=fontsize, rotation=45)\n",
        "    ax.set_xticklabels(ax.get_xticklabels(), size=fontsize, rotation=45)"
      ],
      "metadata": {
        "id": "BOHnwfl9pAsM"
      },
      "execution_count": null,
      "outputs": []
    },
    {
      "cell_type": "code",
      "source": [
        "[...]"
      ],
      "metadata": {
        "id": "6mK-O--AtqA-"
      },
      "execution_count": null,
      "outputs": []
    },
    {
      "cell_type": "markdown",
      "source": [
        "# Out-of-distribution\n",
        "Load the data from the following filepath and make a tf dataset"
      ],
      "metadata": {
        "id": "U49iEC7Ep0bG"
      }
    },
    {
      "cell_type": "markdown",
      "source": [
        "## TTA"
      ],
      "metadata": {
        "id": "9PutPxtqzWqp"
      }
    },
    {
      "cell_type": "code",
      "source": [
        "filepath = os.path.join(ROOTDIR_DATA, \"ood.npy\")\n",
        "ood = np.load(filepath)\n",
        "label_ood = np.zeros(len(ood))"
      ],
      "metadata": {
        "id": "5kkHJQLcp86O"
      },
      "execution_count": null,
      "outputs": []
    },
    {
      "cell_type": "code",
      "source": [
        "ood_ds = [...]"
      ],
      "metadata": {
        "id": "HnUXAvq5qzqe"
      },
      "execution_count": null,
      "outputs": []
    },
    {
      "cell_type": "markdown",
      "source": [
        "Compute unceertainty metrics for TTA "
      ],
      "metadata": {
        "id": "JaX38LP8U8D-"
      }
    },
    {
      "cell_type": "markdown",
      "source": [
        "## MC dropout"
      ],
      "metadata": {
        "id": "thJhdS3rzYtF"
      }
    },
    {
      "cell_type": "code",
      "source": [
        "input_shape = (32, 32, 3)\n",
        "num_classes = 10\n",
        "draws = 20 #  Equivalent with 'all' as TTA policy (this means draws*4 total samples, with draws set as 5)"
      ],
      "metadata": {
        "id": "ncn9CIdj1RJb"
      },
      "execution_count": null,
      "outputs": []
    },
    {
      "cell_type": "markdown",
      "source": [
        "MC Wrapper"
      ],
      "metadata": {
        "id": "YHhFpD02UsGg"
      }
    },
    {
      "cell_type": "code",
      "source": [
        "[...]"
      ],
      "metadata": {
        "id": "0fpgG7Kr1AKA"
      },
      "execution_count": null,
      "outputs": []
    },
    {
      "cell_type": "code",
      "source": [
        "model = ResNet((input_shape[0], input_shape[1]), \n",
        "               num_classes=num_classes,\n",
        "               mc_dropout=True,\n",
        "               augment=True)\n",
        "model.compile(metrics=[\"accuracy\"])\n",
        "model.built = True\n",
        "model.load_weights(os.path.join(ROOTDIR_DATA, \"models_cifar_mc-drop/checkpoint_cifar10_lr_red\"))\n",
        "mc_model = MCWrapper(model)"
      ],
      "metadata": {
        "id": "fOUhFAHjzac1"
      },
      "execution_count": null,
      "outputs": []
    },
    {
      "cell_type": "markdown",
      "source": [
        "Test the model on cifar10 original"
      ],
      "metadata": {
        "id": "IFipro3n0d3G"
      }
    },
    {
      "cell_type": "code",
      "source": [
        "[...]"
      ],
      "metadata": {
        "id": "8-IB5Nd30cre"
      },
      "execution_count": null,
      "outputs": []
    },
    {
      "cell_type": "markdown",
      "source": [
        "Compute uncertainty metrics for MC dropout"
      ],
      "metadata": {
        "id": "ghiosj3IU2yp"
      }
    },
    {
      "cell_type": "markdown",
      "source": [
        "Compute deterministic preds by loading again deterministic model and compute deterministic uncertainties"
      ],
      "metadata": {
        "id": "sNz6FbgmQoCX"
      }
    },
    {
      "cell_type": "code",
      "source": [
        "input_shape = (32, 32, 3)\n",
        "num_classes = 10\n",
        "model = ResNet((input_shape[0], input_shape[1]), \n",
        "               num_classes=num_classes, \n",
        "               augment=True)\n",
        "model.compile(metrics=[\"accuracy\"])\n",
        "model.built = True\n",
        "model.load_weights(os.path.join(ROOTDIR_DATA, \"models_cifar/checkpoint_cifar10_lr_red\"))"
      ],
      "metadata": {
        "id": "pvblLGuxQ6Sd"
      },
      "execution_count": null,
      "outputs": []
    },
    {
      "cell_type": "code",
      "source": [
        "deterministic_preds_ood = model.predict(ood_ds)"
      ],
      "metadata": {
        "id": "FVlEhT27QqLe"
      },
      "execution_count": null,
      "outputs": []
    },
    {
      "cell_type": "markdown",
      "source": [
        "Plot histograms comparing the different metrics (MC, TTA, deterministic) on the OOD"
      ],
      "metadata": {
        "id": "jb6D1ULwVI_B"
      }
    }
  ],
  "metadata": {
    "accelerator": "GPU",
    "colab": {
      "collapsed_sections": [],
      "name": "MLinA_Selective_classification.ipynb",
      "provenance": [],
      "toc_visible": true,
      "include_colab_link": true
    },
    "kernelspec": {
      "display_name": "Python 3",
      "language": "python",
      "name": "python3"
    },
    "language_info": {
      "codemirror_mode": {
        "name": "ipython",
        "version": 3
      },
      "file_extension": ".py",
      "mimetype": "text/x-python",
      "name": "python",
      "nbconvert_exporter": "python",
      "pygments_lexer": "ipython3",
      "version": "3.6.9"
    },
    "toc": {
      "base_numbering": 1,
      "nav_menu": {
        "height": "211px",
        "width": "638px"
      },
      "number_sections": true,
      "sideBar": true,
      "skip_h1_title": false,
      "title_cell": "Table of Contents",
      "title_sidebar": "Contents",
      "toc_cell": false,
      "toc_position": {},
      "toc_section_display": true,
      "toc_window_display": false
    },
    "toc-autonumbering": false,
    "toc-showcode": false,
    "toc-showmarkdowntxt": false,
    "toc-showtags": false
  },
  "nbformat": 4,
  "nbformat_minor": 0
}